{
 "cells": [
  {
   "cell_type": "markdown",
   "id": "87e2f2a6",
   "metadata": {},
   "source": [
    "# Zomato Dataset"
   ]
  },
  {
   "cell_type": "raw",
   "id": "0573c505",
   "metadata": {},
   "source": [
    "Machine Learning:\n",
    "About the Data:\n",
    "Zomato is an Indian multinational restaurant aggregator and food delivery \n",
    "company founded by Deepinder Goyal and Pankaj Chaddah in 2008. Zomato \n",
    "provides information, menus, and user reviews of restaurants as well as food \n",
    "delivery options from partner restaurants in select cities.\n",
    "Attributes:\n",
    "1. URL - Website of the Zomato for each restaurant. - Object datatype\n",
    "2. Address - Address of the Restaurant. - Object datatype\n",
    "3. Name - Name of the restaurant. - Object datatype\n",
    "4. Online Order - The customer ordered the menu online or not. - Object datatype\n",
    "5. Book table - The customer has booked the table or not. - Object datatype\n",
    "6. Rate - Rating of the restaurant that has by the customer. - Numerical datatype\n",
    "7. Votes - The votes have been given by the customer to the restaurant. - Numerical \n",
    "datatype\n",
    "8. Phone - Contact number of the Restaurant. - Object datatype\n",
    "9. Location - The city name where the restaurant is located. - Object datatype\n",
    "10. Rest Type - The type of restaurant. - Object datatype\n",
    "11. Dish liked - Dishes liked by the customer from the restaurant. - Object datatype\n",
    "12. Cuisines - The cuisines that have been prepared by the restaurant. - Object datatype\n",
    "13. Approx Cost for two people - The approximate cost of the customer for 2 people. -\n",
    "Number datatype\n",
    "14. Reviews list - The reviews made by the customers on the restaurant. - Object \n",
    "datatype\n",
    "15. Menu Item - The menu items that are usually available at the restaurant. - Object \n",
    "datatype\n",
    "16. Listed in (type) - Contains the type of the meal. - Object datatype\n",
    "17. Listed in (city) - This contains the neighborhood in which the restaurant is listed. -\n",
    "Object datatype\n",
    "Section A: Title: Regression model\n",
    "Problem:\n",
    "Restaurants from all over the world can be found here in Bengaluru. From the United States \n",
    "to Japan, Russia to Antarctica, you get all types of cuisines here. Delivery, Dine-out, Pubs, \n",
    "Bars, Drinks, Buffet, Desserts you name it and Bengaluru has it. Bengaluru is the best place \n",
    "for foodies. The number of restaurants is increasing day by day. Currently, it stands at \n",
    "approximately 12,000 restaurants. With such a high number of restaurants. This industry \n",
    "hasn't been saturated yet. And new restaurants are opening every day. However, it has \n",
    "become difficult for them to compete with already established restaurants. The key issues \n",
    "that continue to pose a challenge to them include high real estate costs, rising food costs, \n",
    "shortage of quality manpower, fragmented supply chain, and over-licensing. \n",
    "Objective:\n",
    "The newly started companies are not able to decide the cost that would happen per \n",
    "two people for once. So the Zomato company has a good analyst team who can predict the \n",
    "cost per two customers for one time so that the newly started restaurants and upcoming \n",
    "restaurants will be well prepared how the restaurant should invest in improving the \n",
    "ambiance and all other stuff to attract the customers. Assume you are the analyst team that \n",
    "Zomato has organized to help new and upcoming restaurants by letting them know the \n",
    "various reasons that customers look for and build a model which able to predict the cost for \n",
    "two people"
   ]
  },
  {
   "cell_type": "code",
   "execution_count": null,
   "id": "66395295",
   "metadata": {},
   "outputs": [],
   "source": []
  },
  {
   "cell_type": "markdown",
   "id": "68ba7aaa",
   "metadata": {},
   "source": [
    "# Section A                                                         "
   ]
  },
  {
   "cell_type": "markdown",
   "id": "7e38eb08",
   "metadata": {},
   "source": [
    "#  Title: Regression model"
   ]
  },
  {
   "cell_type": "code",
   "execution_count": 1,
   "id": "fc20695e",
   "metadata": {},
   "outputs": [],
   "source": [
    "import pandas as pd\n",
    "import numpy as np\n",
    "import matplotlib.pyplot as plt\n",
    "import seaborn as sns\n",
    "from scipy import stats\n",
    "from sklearn.model_selection import train_test_split\n",
    "from sklearn.preprocessing import StandardScaler\n",
    "from sklearn.linear_model import LinearRegression\n",
    "from sklearn.metrics import mean_squared_error, r2_score\n"
   ]
  },
  {
   "cell_type": "markdown",
   "id": "0bed93de",
   "metadata": {},
   "source": [
    "....."
   ]
  },
  {
   "cell_type": "code",
   "execution_count": 26,
   "id": "ab0b5b23",
   "metadata": {},
   "outputs": [
    {
     "data": {
      "text/html": [
       "<div>\n",
       "<style scoped>\n",
       "    .dataframe tbody tr th:only-of-type {\n",
       "        vertical-align: middle;\n",
       "    }\n",
       "\n",
       "    .dataframe tbody tr th {\n",
       "        vertical-align: top;\n",
       "    }\n",
       "\n",
       "    .dataframe thead th {\n",
       "        text-align: right;\n",
       "    }\n",
       "</style>\n",
       "<table border=\"1\" class=\"dataframe\">\n",
       "  <thead>\n",
       "    <tr style=\"text-align: right;\">\n",
       "      <th></th>\n",
       "      <th>url</th>\n",
       "      <th>address</th>\n",
       "      <th>name</th>\n",
       "      <th>online_order</th>\n",
       "      <th>book_table</th>\n",
       "      <th>rate</th>\n",
       "      <th>votes</th>\n",
       "      <th>phone</th>\n",
       "      <th>location</th>\n",
       "      <th>rest_type</th>\n",
       "      <th>dish_liked</th>\n",
       "      <th>cuisines</th>\n",
       "      <th>approx_cost(for two people)</th>\n",
       "      <th>reviews_list</th>\n",
       "      <th>menu_item</th>\n",
       "      <th>listed_in(type)</th>\n",
       "      <th>listed_in(city)</th>\n",
       "    </tr>\n",
       "  </thead>\n",
       "  <tbody>\n",
       "    <tr>\n",
       "      <th>0</th>\n",
       "      <td>https://www.zomato.com/bangalore/jalsa-banasha...</td>\n",
       "      <td>942, 21st Main Road, 2nd Stage, Banashankari, ...</td>\n",
       "      <td>Jalsa</td>\n",
       "      <td>Yes</td>\n",
       "      <td>Yes</td>\n",
       "      <td>4.1/5</td>\n",
       "      <td>775</td>\n",
       "      <td>080 42297555\\r\\n+91 9743772233</td>\n",
       "      <td>Banashankari</td>\n",
       "      <td>Casual Dining</td>\n",
       "      <td>Pasta, Lunch Buffet, Masala Papad, Paneer Laja...</td>\n",
       "      <td>North Indian, Mughlai, Chinese</td>\n",
       "      <td>800</td>\n",
       "      <td>[('Rated 4.0', 'RATED\\n  A beautiful place to ...</td>\n",
       "      <td>[]</td>\n",
       "      <td>Buffet</td>\n",
       "      <td>Banashankari</td>\n",
       "    </tr>\n",
       "    <tr>\n",
       "      <th>1</th>\n",
       "      <td>https://www.zomato.com/bangalore/spice-elephan...</td>\n",
       "      <td>2nd Floor, 80 Feet Road, Near Big Bazaar, 6th ...</td>\n",
       "      <td>Spice Elephant</td>\n",
       "      <td>Yes</td>\n",
       "      <td>No</td>\n",
       "      <td>4.1/5</td>\n",
       "      <td>787</td>\n",
       "      <td>080 41714161</td>\n",
       "      <td>Banashankari</td>\n",
       "      <td>Casual Dining</td>\n",
       "      <td>Momos, Lunch Buffet, Chocolate Nirvana, Thai G...</td>\n",
       "      <td>Chinese, North Indian, Thai</td>\n",
       "      <td>800</td>\n",
       "      <td>[('Rated 4.0', 'RATED\\n  Had been here for din...</td>\n",
       "      <td>[]</td>\n",
       "      <td>Buffet</td>\n",
       "      <td>Banashankari</td>\n",
       "    </tr>\n",
       "    <tr>\n",
       "      <th>2</th>\n",
       "      <td>https://www.zomato.com/SanchurroBangalore?cont...</td>\n",
       "      <td>1112, Next to KIMS Medical College, 17th Cross...</td>\n",
       "      <td>San Churro Cafe</td>\n",
       "      <td>Yes</td>\n",
       "      <td>No</td>\n",
       "      <td>3.8/5</td>\n",
       "      <td>918</td>\n",
       "      <td>+91 9663487993</td>\n",
       "      <td>Banashankari</td>\n",
       "      <td>Cafe, Casual Dining</td>\n",
       "      <td>Churros, Cannelloni, Minestrone Soup, Hot Choc...</td>\n",
       "      <td>Cafe, Mexican, Italian</td>\n",
       "      <td>800</td>\n",
       "      <td>[('Rated 3.0', \"RATED\\n  Ambience is not that ...</td>\n",
       "      <td>[]</td>\n",
       "      <td>Buffet</td>\n",
       "      <td>Banashankari</td>\n",
       "    </tr>\n",
       "    <tr>\n",
       "      <th>3</th>\n",
       "      <td>https://www.zomato.com/bangalore/addhuri-udupi...</td>\n",
       "      <td>1st Floor, Annakuteera, 3rd Stage, Banashankar...</td>\n",
       "      <td>Addhuri Udupi Bhojana</td>\n",
       "      <td>No</td>\n",
       "      <td>No</td>\n",
       "      <td>3.7/5</td>\n",
       "      <td>88</td>\n",
       "      <td>+91 9620009302</td>\n",
       "      <td>Banashankari</td>\n",
       "      <td>Quick Bites</td>\n",
       "      <td>Masala Dosa</td>\n",
       "      <td>South Indian, North Indian</td>\n",
       "      <td>300</td>\n",
       "      <td>[('Rated 4.0', \"RATED\\n  Great food and proper...</td>\n",
       "      <td>[]</td>\n",
       "      <td>Buffet</td>\n",
       "      <td>Banashankari</td>\n",
       "    </tr>\n",
       "    <tr>\n",
       "      <th>4</th>\n",
       "      <td>https://www.zomato.com/bangalore/grand-village...</td>\n",
       "      <td>10, 3rd Floor, Lakshmi Associates, Gandhi Baza...</td>\n",
       "      <td>Grand Village</td>\n",
       "      <td>No</td>\n",
       "      <td>No</td>\n",
       "      <td>3.8/5</td>\n",
       "      <td>166</td>\n",
       "      <td>+91 8026612447\\r\\n+91 9901210005</td>\n",
       "      <td>Basavanagudi</td>\n",
       "      <td>Casual Dining</td>\n",
       "      <td>Panipuri, Gol Gappe</td>\n",
       "      <td>North Indian, Rajasthani</td>\n",
       "      <td>600</td>\n",
       "      <td>[('Rated 4.0', 'RATED\\n  Very good restaurant ...</td>\n",
       "      <td>[]</td>\n",
       "      <td>Buffet</td>\n",
       "      <td>Banashankari</td>\n",
       "    </tr>\n",
       "  </tbody>\n",
       "</table>\n",
       "</div>"
      ],
      "text/plain": [
       "                                                 url  \\\n",
       "0  https://www.zomato.com/bangalore/jalsa-banasha...   \n",
       "1  https://www.zomato.com/bangalore/spice-elephan...   \n",
       "2  https://www.zomato.com/SanchurroBangalore?cont...   \n",
       "3  https://www.zomato.com/bangalore/addhuri-udupi...   \n",
       "4  https://www.zomato.com/bangalore/grand-village...   \n",
       "\n",
       "                                             address                   name  \\\n",
       "0  942, 21st Main Road, 2nd Stage, Banashankari, ...                  Jalsa   \n",
       "1  2nd Floor, 80 Feet Road, Near Big Bazaar, 6th ...         Spice Elephant   \n",
       "2  1112, Next to KIMS Medical College, 17th Cross...        San Churro Cafe   \n",
       "3  1st Floor, Annakuteera, 3rd Stage, Banashankar...  Addhuri Udupi Bhojana   \n",
       "4  10, 3rd Floor, Lakshmi Associates, Gandhi Baza...          Grand Village   \n",
       "\n",
       "  online_order book_table   rate  votes                             phone  \\\n",
       "0          Yes        Yes  4.1/5    775    080 42297555\\r\\n+91 9743772233   \n",
       "1          Yes         No  4.1/5    787                      080 41714161   \n",
       "2          Yes         No  3.8/5    918                    +91 9663487993   \n",
       "3           No         No  3.7/5     88                    +91 9620009302   \n",
       "4           No         No  3.8/5    166  +91 8026612447\\r\\n+91 9901210005   \n",
       "\n",
       "       location            rest_type  \\\n",
       "0  Banashankari        Casual Dining   \n",
       "1  Banashankari        Casual Dining   \n",
       "2  Banashankari  Cafe, Casual Dining   \n",
       "3  Banashankari          Quick Bites   \n",
       "4  Basavanagudi        Casual Dining   \n",
       "\n",
       "                                          dish_liked  \\\n",
       "0  Pasta, Lunch Buffet, Masala Papad, Paneer Laja...   \n",
       "1  Momos, Lunch Buffet, Chocolate Nirvana, Thai G...   \n",
       "2  Churros, Cannelloni, Minestrone Soup, Hot Choc...   \n",
       "3                                        Masala Dosa   \n",
       "4                                Panipuri, Gol Gappe   \n",
       "\n",
       "                         cuisines approx_cost(for two people)  \\\n",
       "0  North Indian, Mughlai, Chinese                         800   \n",
       "1     Chinese, North Indian, Thai                         800   \n",
       "2          Cafe, Mexican, Italian                         800   \n",
       "3      South Indian, North Indian                         300   \n",
       "4        North Indian, Rajasthani                         600   \n",
       "\n",
       "                                        reviews_list menu_item  \\\n",
       "0  [('Rated 4.0', 'RATED\\n  A beautiful place to ...        []   \n",
       "1  [('Rated 4.0', 'RATED\\n  Had been here for din...        []   \n",
       "2  [('Rated 3.0', \"RATED\\n  Ambience is not that ...        []   \n",
       "3  [('Rated 4.0', \"RATED\\n  Great food and proper...        []   \n",
       "4  [('Rated 4.0', 'RATED\\n  Very good restaurant ...        []   \n",
       "\n",
       "  listed_in(type) listed_in(city)  \n",
       "0          Buffet    Banashankari  \n",
       "1          Buffet    Banashankari  \n",
       "2          Buffet    Banashankari  \n",
       "3          Buffet    Banashankari  \n",
       "4          Buffet    Banashankari  "
      ]
     },
     "execution_count": 26,
     "metadata": {},
     "output_type": "execute_result"
    }
   ],
   "source": [
    "df = pd.read_csv('zomato.csv')\n",
    "df.head(5)"
   ]
  },
  {
   "cell_type": "code",
   "execution_count": 27,
   "id": "e532fec0",
   "metadata": {},
   "outputs": [
    {
     "name": "stdout",
     "output_type": "stream",
     "text": [
      "<class 'pandas.core.frame.DataFrame'>\n",
      "RangeIndex: 51717 entries, 0 to 51716\n",
      "Data columns (total 17 columns):\n",
      " #   Column                       Non-Null Count  Dtype \n",
      "---  ------                       --------------  ----- \n",
      " 0   url                          51717 non-null  object\n",
      " 1   address                      51717 non-null  object\n",
      " 2   name                         51717 non-null  object\n",
      " 3   online_order                 51717 non-null  object\n",
      " 4   book_table                   51717 non-null  object\n",
      " 5   rate                         43942 non-null  object\n",
      " 6   votes                        51717 non-null  int64 \n",
      " 7   phone                        50509 non-null  object\n",
      " 8   location                     51696 non-null  object\n",
      " 9   rest_type                    51490 non-null  object\n",
      " 10  dish_liked                   23639 non-null  object\n",
      " 11  cuisines                     51672 non-null  object\n",
      " 12  approx_cost(for two people)  51371 non-null  object\n",
      " 13  reviews_list                 51717 non-null  object\n",
      " 14  menu_item                    51717 non-null  object\n",
      " 15  listed_in(type)              51717 non-null  object\n",
      " 16  listed_in(city)              51717 non-null  object\n",
      "dtypes: int64(1), object(16)\n",
      "memory usage: 6.7+ MB\n"
     ]
    }
   ],
   "source": [
    "df.info()"
   ]
  },
  {
   "cell_type": "code",
   "execution_count": 28,
   "id": "30d05dee",
   "metadata": {},
   "outputs": [
    {
     "data": {
      "text/html": [
       "<div>\n",
       "<style scoped>\n",
       "    .dataframe tbody tr th:only-of-type {\n",
       "        vertical-align: middle;\n",
       "    }\n",
       "\n",
       "    .dataframe tbody tr th {\n",
       "        vertical-align: top;\n",
       "    }\n",
       "\n",
       "    .dataframe thead th {\n",
       "        text-align: right;\n",
       "    }\n",
       "</style>\n",
       "<table border=\"1\" class=\"dataframe\">\n",
       "  <thead>\n",
       "    <tr style=\"text-align: right;\">\n",
       "      <th></th>\n",
       "      <th>count</th>\n",
       "      <th>mean</th>\n",
       "      <th>std</th>\n",
       "      <th>min</th>\n",
       "      <th>25%</th>\n",
       "      <th>50%</th>\n",
       "      <th>75%</th>\n",
       "      <th>max</th>\n",
       "    </tr>\n",
       "  </thead>\n",
       "  <tbody>\n",
       "    <tr>\n",
       "      <th>votes</th>\n",
       "      <td>51717.0</td>\n",
       "      <td>283.697527</td>\n",
       "      <td>803.838853</td>\n",
       "      <td>0.0</td>\n",
       "      <td>7.0</td>\n",
       "      <td>41.0</td>\n",
       "      <td>198.0</td>\n",
       "      <td>16832.0</td>\n",
       "    </tr>\n",
       "  </tbody>\n",
       "</table>\n",
       "</div>"
      ],
      "text/plain": [
       "         count        mean         std  min  25%   50%    75%      max\n",
       "votes  51717.0  283.697527  803.838853  0.0  7.0  41.0  198.0  16832.0"
      ]
     },
     "execution_count": 28,
     "metadata": {},
     "output_type": "execute_result"
    }
   ],
   "source": [
    "df.describe().T"
   ]
  },
  {
   "cell_type": "code",
   "execution_count": 29,
   "id": "d3e5daf9",
   "metadata": {},
   "outputs": [
    {
     "data": {
      "text/html": [
       "<div>\n",
       "<style scoped>\n",
       "    .dataframe tbody tr th:only-of-type {\n",
       "        vertical-align: middle;\n",
       "    }\n",
       "\n",
       "    .dataframe tbody tr th {\n",
       "        vertical-align: top;\n",
       "    }\n",
       "\n",
       "    .dataframe thead th {\n",
       "        text-align: right;\n",
       "    }\n",
       "</style>\n",
       "<table border=\"1\" class=\"dataframe\">\n",
       "  <thead>\n",
       "    <tr style=\"text-align: right;\">\n",
       "      <th></th>\n",
       "      <th>count</th>\n",
       "      <th>unique</th>\n",
       "      <th>top</th>\n",
       "      <th>freq</th>\n",
       "    </tr>\n",
       "  </thead>\n",
       "  <tbody>\n",
       "    <tr>\n",
       "      <th>url</th>\n",
       "      <td>51717</td>\n",
       "      <td>51717</td>\n",
       "      <td>https://www.zomato.com/bangalore/jalsa-banasha...</td>\n",
       "      <td>1</td>\n",
       "    </tr>\n",
       "    <tr>\n",
       "      <th>address</th>\n",
       "      <td>51717</td>\n",
       "      <td>11495</td>\n",
       "      <td>Delivery Only</td>\n",
       "      <td>128</td>\n",
       "    </tr>\n",
       "    <tr>\n",
       "      <th>name</th>\n",
       "      <td>51717</td>\n",
       "      <td>8792</td>\n",
       "      <td>Cafe Coffee Day</td>\n",
       "      <td>96</td>\n",
       "    </tr>\n",
       "    <tr>\n",
       "      <th>online_order</th>\n",
       "      <td>51717</td>\n",
       "      <td>2</td>\n",
       "      <td>Yes</td>\n",
       "      <td>30444</td>\n",
       "    </tr>\n",
       "    <tr>\n",
       "      <th>book_table</th>\n",
       "      <td>51717</td>\n",
       "      <td>2</td>\n",
       "      <td>No</td>\n",
       "      <td>45268</td>\n",
       "    </tr>\n",
       "    <tr>\n",
       "      <th>rate</th>\n",
       "      <td>43942</td>\n",
       "      <td>64</td>\n",
       "      <td>NEW</td>\n",
       "      <td>2208</td>\n",
       "    </tr>\n",
       "    <tr>\n",
       "      <th>phone</th>\n",
       "      <td>50509</td>\n",
       "      <td>14926</td>\n",
       "      <td>080 43334321</td>\n",
       "      <td>216</td>\n",
       "    </tr>\n",
       "    <tr>\n",
       "      <th>location</th>\n",
       "      <td>51696</td>\n",
       "      <td>93</td>\n",
       "      <td>BTM</td>\n",
       "      <td>5124</td>\n",
       "    </tr>\n",
       "    <tr>\n",
       "      <th>rest_type</th>\n",
       "      <td>51490</td>\n",
       "      <td>93</td>\n",
       "      <td>Quick Bites</td>\n",
       "      <td>19132</td>\n",
       "    </tr>\n",
       "    <tr>\n",
       "      <th>dish_liked</th>\n",
       "      <td>23639</td>\n",
       "      <td>5271</td>\n",
       "      <td>Biryani</td>\n",
       "      <td>182</td>\n",
       "    </tr>\n",
       "    <tr>\n",
       "      <th>cuisines</th>\n",
       "      <td>51672</td>\n",
       "      <td>2723</td>\n",
       "      <td>North Indian</td>\n",
       "      <td>2913</td>\n",
       "    </tr>\n",
       "    <tr>\n",
       "      <th>approx_cost(for two people)</th>\n",
       "      <td>51371</td>\n",
       "      <td>70</td>\n",
       "      <td>300</td>\n",
       "      <td>7576</td>\n",
       "    </tr>\n",
       "    <tr>\n",
       "      <th>reviews_list</th>\n",
       "      <td>51717</td>\n",
       "      <td>22513</td>\n",
       "      <td>[]</td>\n",
       "      <td>7595</td>\n",
       "    </tr>\n",
       "    <tr>\n",
       "      <th>menu_item</th>\n",
       "      <td>51717</td>\n",
       "      <td>9098</td>\n",
       "      <td>[]</td>\n",
       "      <td>39617</td>\n",
       "    </tr>\n",
       "    <tr>\n",
       "      <th>listed_in(type)</th>\n",
       "      <td>51717</td>\n",
       "      <td>7</td>\n",
       "      <td>Delivery</td>\n",
       "      <td>25942</td>\n",
       "    </tr>\n",
       "    <tr>\n",
       "      <th>listed_in(city)</th>\n",
       "      <td>51717</td>\n",
       "      <td>30</td>\n",
       "      <td>BTM</td>\n",
       "      <td>3279</td>\n",
       "    </tr>\n",
       "  </tbody>\n",
       "</table>\n",
       "</div>"
      ],
      "text/plain": [
       "                             count unique  \\\n",
       "url                          51717  51717   \n",
       "address                      51717  11495   \n",
       "name                         51717   8792   \n",
       "online_order                 51717      2   \n",
       "book_table                   51717      2   \n",
       "rate                         43942     64   \n",
       "phone                        50509  14926   \n",
       "location                     51696     93   \n",
       "rest_type                    51490     93   \n",
       "dish_liked                   23639   5271   \n",
       "cuisines                     51672   2723   \n",
       "approx_cost(for two people)  51371     70   \n",
       "reviews_list                 51717  22513   \n",
       "menu_item                    51717   9098   \n",
       "listed_in(type)              51717      7   \n",
       "listed_in(city)              51717     30   \n",
       "\n",
       "                                                                           top  \\\n",
       "url                          https://www.zomato.com/bangalore/jalsa-banasha...   \n",
       "address                                                          Delivery Only   \n",
       "name                                                           Cafe Coffee Day   \n",
       "online_order                                                               Yes   \n",
       "book_table                                                                  No   \n",
       "rate                                                                       NEW   \n",
       "phone                                                             080 43334321   \n",
       "location                                                                   BTM   \n",
       "rest_type                                                          Quick Bites   \n",
       "dish_liked                                                             Biryani   \n",
       "cuisines                                                          North Indian   \n",
       "approx_cost(for two people)                                                300   \n",
       "reviews_list                                                                []   \n",
       "menu_item                                                                   []   \n",
       "listed_in(type)                                                       Delivery   \n",
       "listed_in(city)                                                            BTM   \n",
       "\n",
       "                              freq  \n",
       "url                              1  \n",
       "address                        128  \n",
       "name                            96  \n",
       "online_order                 30444  \n",
       "book_table                   45268  \n",
       "rate                          2208  \n",
       "phone                          216  \n",
       "location                      5124  \n",
       "rest_type                    19132  \n",
       "dish_liked                     182  \n",
       "cuisines                      2913  \n",
       "approx_cost(for two people)   7576  \n",
       "reviews_list                  7595  \n",
       "menu_item                    39617  \n",
       "listed_in(type)              25942  \n",
       "listed_in(city)               3279  "
      ]
     },
     "execution_count": 29,
     "metadata": {},
     "output_type": "execute_result"
    }
   ],
   "source": [
    "df.describe(include='object').T"
   ]
  },
  {
   "cell_type": "code",
   "execution_count": 30,
   "id": "c4baad97",
   "metadata": {},
   "outputs": [],
   "source": [
    "df['approx_cost(for two people)'] = df['approx_cost(for two people)'].str.replace(',', '').astype(float)"
   ]
  },
  {
   "cell_type": "code",
   "execution_count": 31,
   "id": "3674eb67",
   "metadata": {},
   "outputs": [
    {
     "name": "stdout",
     "output_type": "stream",
     "text": [
      "Missing Values:\n",
      "url                                0\n",
      "address                            0\n",
      "name                               0\n",
      "online_order                       0\n",
      "book_table                         0\n",
      "rate                            7775\n",
      "votes                              0\n",
      "phone                           1208\n",
      "location                          21\n",
      "rest_type                        227\n",
      "dish_liked                     28078\n",
      "cuisines                          45\n",
      "approx_cost(for two people)      346\n",
      "reviews_list                       0\n",
      "menu_item                          0\n",
      "listed_in(type)                    0\n",
      "listed_in(city)                    0\n",
      "dtype: int64\n",
      "\n",
      "Duplicate Records: 0\n"
     ]
    }
   ],
   "source": [
    "print(\"Missing Values:\")\n",
    "print(df.isnull().sum())\n",
    "print(\"\\nDuplicate Records:\", df.duplicated().sum())"
   ]
  },
  {
   "cell_type": "code",
   "execution_count": 32,
   "id": "f9894d4b",
   "metadata": {},
   "outputs": [],
   "source": [
    "# Imputing missing values\n",
    "# Imputing missing values and handling '-' in 'rate'\n",
    "df['rate'] = df['rate'].str.replace('/5', '').replace('NEW', None).replace('-', None)\n",
    "df['rate'] = df['rate'].astype(float)\n",
    "df['votes'] = df['votes'].astype(float)\n",
    "df['approx_cost(for two people)'].fillna(df['approx_cost(for two people)'].median(), inplace=True)\n"
   ]
  },
  {
   "cell_type": "code",
   "execution_count": 33,
   "id": "e131bded",
   "metadata": {},
   "outputs": [
    {
     "data": {
      "image/png": "[encoded data removed]",
      "text/plain": [
       "<Figure size 1000x600 with 1 Axes>"
      ]
     },
     "metadata": {},
     "output_type": "display_data"
    }
   ],
   "source": [
    "# Step 4: Performing EDA\n",
    "plt.figure(figsize=(10, 6))\n",
    "sns.histplot(df['approx_cost(for two people)'], bins=30, kde=True)\n",
    "plt.title('Distribution of Approximate Cost for Two People')\n",
    "plt.xlabel('Approximate Cost')\n",
    "plt.ylabel('Frequency')\n",
    "plt.show()"
   ]
  },
  {
   "cell_type": "markdown",
   "id": "26b18851",
   "metadata": {},
   "source": [
    "..."
   ]
  },
  {
   "cell_type": "code",
   "execution_count": 34,
   "id": "bfb015fe",
   "metadata": {},
   "outputs": [],
   "source": [
    "# Step 4: Drop unnecessary columns\n",
    "df_model = df.drop(['url', 'address', 'name', 'phone', 'reviews_list', 'menu_item'], axis=1)\n"
   ]
  },
  {
   "cell_type": "code",
   "execution_count": 36,
   "id": "c34bd03c",
   "metadata": {},
   "outputs": [
    {
     "data": {
      "text/plain": [
       "online_order                    object\n",
       "book_table                      object\n",
       "rate                           float64\n",
       "votes                          float64\n",
       "location                        object\n",
       "rest_type                       object\n",
       "dish_liked                      object\n",
       "cuisines                        object\n",
       "approx_cost(for two people)    float64\n",
       "listed_in(type)                 object\n",
       "listed_in(city)                 object\n",
       "dtype: object"
      ]
     },
     "execution_count": 36,
     "metadata": {},
     "output_type": "execute_result"
    }
   ],
   "source": [
    "df_model.dtypes"
   ]
  },
  {
   "cell_type": "code",
   "execution_count": 38,
   "id": "6b496897",
   "metadata": {},
   "outputs": [],
   "source": [
    "# Step 5: Label Encoding for categorical variables\n",
    "from sklearn.preprocessing import LabelEncoder\n",
    "label_encoder = LabelEncoder()\n",
    "categorical_cols = ['online_order', 'book_table', 'location', 'rest_type', 'dish_liked', 'cuisines', 'listed_in(type)', 'listed_in(city)']\n",
    "for col in categorical_cols:\n",
    "    df_model[col] = label_encoder.fit_transform(df_model[col].astype(str))\n"
   ]
  },
  {
   "cell_type": "code",
   "execution_count": 40,
   "id": "ad82410a",
   "metadata": {},
   "outputs": [
    {
     "name": "stdout",
     "output_type": "stream",
     "text": [
      "Duplicate Records: 432\n"
     ]
    }
   ],
   "source": [
    "print(\"Duplicate Records:\", df_model.duplicated().sum())"
   ]
  },
  {
   "cell_type": "code",
   "execution_count": 41,
   "id": "7c010884",
   "metadata": {},
   "outputs": [
    {
     "name": "stdout",
     "output_type": "stream",
     "text": [
      "votes significantly impacts 'approx_cost(for two people)'\n",
      "location significantly impacts 'approx_cost(for two people)'\n",
      "rest_type significantly impacts 'approx_cost(for two people)'\n",
      "cuisines significantly impacts 'approx_cost(for two people)'\n",
      "listed_in(type) significantly impacts 'approx_cost(for two people)'\n",
      "listed_in(city) significantly impacts 'approx_cost(for two people)'\n"
     ]
    }
   ],
   "source": [
    "for col in ['rate', 'votes', 'location', 'rest_type', 'cuisines', 'listed_in(type)', 'listed_in(city)']:\n",
    "    stat, p_value = stats.ttest_ind(df_model[col], df_model['approx_cost(for two people)'])\n",
    "    if p_value < 0.05:\n",
    "        print(f\"{col} significantly impacts 'approx_cost(for two people)'\")"
   ]
  },
  {
   "cell_type": "code",
   "execution_count": null,
   "id": "3ad31ceb",
   "metadata": {},
   "outputs": [],
   "source": []
  },
  {
   "cell_type": "code",
   "execution_count": 48,
   "id": "57c4a1e4",
   "metadata": {},
   "outputs": [
    {
     "name": "stdout",
     "output_type": "stream",
     "text": [
      "online_order                       0\n",
      "book_table                         0\n",
      "rate                           10052\n",
      "votes                              0\n",
      "location                           0\n",
      "rest_type                          0\n",
      "dish_liked                         0\n",
      "cuisines                           0\n",
      "approx_cost(for two people)        0\n",
      "listed_in(type)                    0\n",
      "listed_in(city)                    0\n",
      "dtype: int64\n",
      "online_order                  -0.360383\n",
      "book_table                     2.272035\n",
      "rate                          -0.328601\n",
      "votes                          7.547819\n",
      "location                       0.380244\n",
      "rest_type                     -0.101658\n",
      "dish_liked                    -1.049510\n",
      "cuisines                      -0.098623\n",
      "approx_cost(for two people)    2.614278\n",
      "listed_in(type)                0.275206\n",
      "listed_in(city)               -0.056174\n",
      "dtype: float64\n",
      "online_order                   -1.870197\n",
      "book_table                      3.162267\n",
      "rate                           -0.007483\n",
      "votes                          88.866738\n",
      "location                       -0.918901\n",
      "rest_type                      -1.563886\n",
      "dish_liked                     -0.394855\n",
      "cuisines                       -1.207153\n",
      "approx_cost(for two people)    10.542695\n",
      "listed_in(type)                -0.511060\n",
      "listed_in(city)                -0.979143\n",
      "dtype: float64\n"
     ]
    }
   ],
   "source": [
    "print(df_model.isnull().sum())\n",
    "print(df_model.skew())\n",
    "print(df_model.kurt())"
   ]
  },
  {
   "cell_type": "code",
   "execution_count": 52,
   "id": "9adcb006",
   "metadata": {},
   "outputs": [],
   "source": [
    "df_model['rate'].fillna(df_model['rate'].median(), inplace=True)"
   ]
  },
  {
   "cell_type": "code",
   "execution_count": null,
   "id": "779d00e7",
   "metadata": {},
   "outputs": [],
   "source": []
  },
  {
   "cell_type": "code",
   "execution_count": 53,
   "id": "305824cd",
   "metadata": {},
   "outputs": [],
   "source": [
    "X = df_model.drop('approx_cost(for two people)', axis=1)\n",
    "y = df_model['approx_cost(for two people)']\n",
    "X_train, X_test, y_train, y_test = train_test_split(X, y, test_size=0.2, random_state=50)\n"
   ]
  },
  {
   "cell_type": "code",
   "execution_count": 54,
   "id": "a10dd9be",
   "metadata": {},
   "outputs": [],
   "source": [
    "from sklearn.preprocessing import StandardScaler\n",
    "scaler = StandardScaler()\n",
    "X_train = scaler.fit_transform(X_train)\n",
    "X_test = scaler.transform(X_test)"
   ]
  },
  {
   "cell_type": "code",
   "execution_count": 55,
   "id": "e6e46d93",
   "metadata": {},
   "outputs": [
    {
     "name": "stdout",
     "output_type": "stream",
     "text": [
      "                                 OLS Regression Results                                \n",
      "=======================================================================================\n",
      "Dep. Variable:     approx_cost(for two people)   R-squared:                       0.477\n",
      "Model:                                     OLS   Adj. R-squared:                  0.476\n",
      "Method:                          Least Squares   F-statistic:                     3766.\n",
      "Date:                         Thu, 11 Apr 2024   Prob (F-statistic):               0.00\n",
      "Time:                                 15:59:16   Log-Likelihood:            -2.9683e+05\n",
      "No. Observations:                        41373   AIC:                         5.937e+05\n",
      "Df Residuals:                            41362   BIC:                         5.938e+05\n",
      "Df Model:                                   10                                         \n",
      "Covariance Type:                     nonrobust                                         \n",
      "==============================================================================\n",
      "                 coef    std err          t      P>|t|      [0.025      0.975]\n",
      "------------------------------------------------------------------------------\n",
      "const        554.0434      1.554    356.621      0.000     550.998     557.088\n",
      "x1           -35.8141      1.622    -22.084      0.000     -38.993     -32.636\n",
      "x2           199.9482      1.826    109.519      0.000     196.370     203.527\n",
      "x3            21.1040      1.855     11.377      0.000      17.468      24.740\n",
      "x4            45.0607      1.817     24.793      0.000      41.498      48.623\n",
      "x5            34.4422      1.645     20.939      0.000      31.218      37.666\n",
      "x6           -84.0912      1.700    -49.475      0.000     -87.423     -80.760\n",
      "x7           -49.0472      1.754    -27.969      0.000     -52.484     -45.610\n",
      "x8             1.9968      1.628      1.227      0.220      -1.193       5.187\n",
      "x9            39.8656      1.614     24.705      0.000      36.703      43.028\n",
      "x10           -0.1062      1.637     -0.065      0.948      -3.315       3.102\n",
      "==============================================================================\n",
      "Omnibus:                    26816.634   Durbin-Watson:                   2.000\n",
      "Prob(Omnibus):                  0.000   Jarque-Bera (JB):           598428.079\n",
      "Skew:                           2.772   Prob(JB):                         0.00\n",
      "Kurtosis:                      20.788   Cond. No.                         2.07\n",
      "==============================================================================\n",
      "\n",
      "Notes:\n",
      "[1] Standard Errors assume that the covariance matrix of the errors is correctly specified.\n"
     ]
    }
   ],
   "source": [
    "import statsmodels.api as sm\n",
    "X_train_const = sm.add_constant(X_train)\n",
    "model_ols = sm.OLS(y_train, X_train_const).fit()\n",
    "print(model_ols.summary())\n"
   ]
  },
  {
   "cell_type": "markdown",
   "id": "aba77a77",
   "metadata": {},
   "source": [
    "The base OLS model has an R-squared value of 0.477, indicating that approximately 47.7% of the variance in the 'approx_cost(for two people)' can be explained by the independent variables in the model."
   ]
  },
  {
   "cell_type": "code",
   "execution_count": 60,
   "id": "8d87e235",
   "metadata": {},
   "outputs": [],
   "source": [
    "from statsmodels.stats.outliers_influence import variance_inflation_factor\n",
    "if not isinstance(X_train, pd.DataFrame):\n",
    "    X_train_df = pd.DataFrame(X_train)\n",
    "else:\n",
    "    X_train_df = X_train.copy()  \n",
    "\n",
    "vif = [variance_inflation_factor(X_train_df.values, i) for i in range(X_train_df.shape[1])]\n",
    "vif_df = pd.DataFrame({'Column': X_train_df.columns, 'VIF': vif})\n"
   ]
  },
  {
   "cell_type": "code",
   "execution_count": 61,
   "id": "eb110a88",
   "metadata": {},
   "outputs": [
    {
     "data": {
      "text/html": [
       "<div>\n",
       "<style scoped>\n",
       "    .dataframe tbody tr th:only-of-type {\n",
       "        vertical-align: middle;\n",
       "    }\n",
       "\n",
       "    .dataframe tbody tr th {\n",
       "        vertical-align: top;\n",
       "    }\n",
       "\n",
       "    .dataframe thead th {\n",
       "        text-align: right;\n",
       "    }\n",
       "</style>\n",
       "<table border=\"1\" class=\"dataframe\">\n",
       "  <thead>\n",
       "    <tr style=\"text-align: right;\">\n",
       "      <th></th>\n",
       "      <th>Column</th>\n",
       "      <th>VIF</th>\n",
       "    </tr>\n",
       "  </thead>\n",
       "  <tbody>\n",
       "    <tr>\n",
       "      <th>0</th>\n",
       "      <td>0</td>\n",
       "      <td>1.089585</td>\n",
       "    </tr>\n",
       "    <tr>\n",
       "      <th>1</th>\n",
       "      <td>1</td>\n",
       "      <td>1.380958</td>\n",
       "    </tr>\n",
       "    <tr>\n",
       "      <th>2</th>\n",
       "      <td>2</td>\n",
       "      <td>1.425628</td>\n",
       "    </tr>\n",
       "    <tr>\n",
       "      <th>3</th>\n",
       "      <td>3</td>\n",
       "      <td>1.368565</td>\n",
       "    </tr>\n",
       "    <tr>\n",
       "      <th>4</th>\n",
       "      <td>4</td>\n",
       "      <td>1.120949</td>\n",
       "    </tr>\n",
       "    <tr>\n",
       "      <th>5</th>\n",
       "      <td>5</td>\n",
       "      <td>1.196881</td>\n",
       "    </tr>\n",
       "    <tr>\n",
       "      <th>6</th>\n",
       "      <td>6</td>\n",
       "      <td>1.274103</td>\n",
       "    </tr>\n",
       "    <tr>\n",
       "      <th>7</th>\n",
       "      <td>7</td>\n",
       "      <td>1.097675</td>\n",
       "    </tr>\n",
       "    <tr>\n",
       "      <th>8</th>\n",
       "      <td>8</td>\n",
       "      <td>1.078858</td>\n",
       "    </tr>\n",
       "    <tr>\n",
       "      <th>9</th>\n",
       "      <td>9</td>\n",
       "      <td>1.110223</td>\n",
       "    </tr>\n",
       "  </tbody>\n",
       "</table>\n",
       "</div>"
      ],
      "text/plain": [
       "   Column       VIF\n",
       "0       0  1.089585\n",
       "1       1  1.380958\n",
       "2       2  1.425628\n",
       "3       3  1.368565\n",
       "4       4  1.120949\n",
       "5       5  1.196881\n",
       "6       6  1.274103\n",
       "7       7  1.097675\n",
       "8       8  1.078858\n",
       "9       9  1.110223"
      ]
     },
     "execution_count": 61,
     "metadata": {},
     "output_type": "execute_result"
    }
   ],
   "source": [
    "vif_df"
   ]
  },
  {
   "cell_type": "code",
   "execution_count": 62,
   "id": "91a6063d",
   "metadata": {},
   "outputs": [],
   "source": [
    "from sklearn.metrics import mean_squared_error, r2_score\n",
    "performance_data = []\n",
    "\n",
    "def model_performance(model, name):\n",
    "    pred_train = model.predict(X_train)\n",
    "    pred_test = model.predict(X_test)\n",
    "\n",
    "    rmse_train = round(np.sqrt(mean_squared_error(y_train, pred_train)),2)\n",
    "    rmse_test = round(np.sqrt(mean_squared_error(y_test, pred_test)),2)\n",
    "    \n",
    "    r2_train = r2_score(y_train, pred_train)\n",
    "    r2_test = r2_score(y_test, pred_test)\n",
    "\n",
    "    performance_data.append({'Name': name,\n",
    "                             'Train_RMSE': rmse_train,\n",
    "                             'Test_RMSE': rmse_test,\n",
    "                             'Train_R2': r2_train,\n",
    "                             'Test_R2': r2_test})\n",
    "    \n",
    "    print('Train RMSE:', rmse_train)\n",
    "    print('Test RMSE:', rmse_test)\n",
    "    print('Train R^2:', r2_train)\n",
    "    print('Test R^2:', r2_test)\n",
    "\n"
   ]
  },
  {
   "cell_type": "code",
   "execution_count": 63,
   "id": "0c08c46f",
   "metadata": {},
   "outputs": [
    {
     "name": "stdout",
     "output_type": "stream",
     "text": [
      "Train RMSE: 315.96\n",
      "Test RMSE: 315.36\n",
      "Train R^2: 0.476594697400443\n",
      "Test R^2: 0.488239415696633\n"
     ]
    }
   ],
   "source": [
    "# Base Model\n",
    "from sklearn.linear_model import LinearRegression\n",
    "\n",
    "model_lr = LinearRegression().fit(X_train, y_train)\n",
    "model_performance(model_lr, 'Base Model (Linear Regression)')\n",
    "performance_df = pd.DataFrame(performance_data)\n"
   ]
  },
  {
   "cell_type": "code",
   "execution_count": 64,
   "id": "bdb5e61f",
   "metadata": {},
   "outputs": [
    {
     "name": "stdout",
     "output_type": "stream",
     "text": [
      "Train RMSE: 13.99\n",
      "Test RMSE: 98.44\n",
      "Train R^2: 0.9989744648787167\n",
      "Test R^2: 0.9501377069883197\n"
     ]
    }
   ],
   "source": [
    "# Building Model using Decision Tree\n",
    "\n",
    "from sklearn.tree import DecisionTreeRegressor\n",
    "model_dt = DecisionTreeRegressor().fit(X_train, y_train)\n",
    "model_performance(model_dt , 'DecisionTree w/o tuning')\n"
   ]
  },
  {
   "cell_type": "code",
   "execution_count": 65,
   "id": "4fa3f049",
   "metadata": {},
   "outputs": [
    {
     "name": "stdout",
     "output_type": "stream",
     "text": [
      "Train RMSE: 33.25\n",
      "Test RMSE: 83.17\n",
      "Train R^2: 0.9942042781151597\n",
      "Test R^2: 0.9644036583418942\n"
     ]
    }
   ],
   "source": [
    "# Building Model using Random Forest\n",
    "\n",
    "from sklearn.ensemble import RandomForestRegressor\n",
    "\n",
    "model_rf = RandomForestRegressor().fit(X_train, y_train)\n",
    "\n",
    "model_performance(model_rf , 'RandomForest w/o tuning')"
   ]
  },
  {
   "cell_type": "code",
   "execution_count": 66,
   "id": "7645bce7",
   "metadata": {},
   "outputs": [
    {
     "name": "stdout",
     "output_type": "stream",
     "text": [
      "Train RMSE: 334.12\n",
      "Test RMSE: 336.53\n",
      "Train R^2: 0.41470875152417286\n",
      "Test R^2: 0.4172375706901218\n"
     ]
    }
   ],
   "source": [
    "# Building model using Adaboost\n",
    "\n",
    "from sklearn.ensemble import AdaBoostRegressor\n",
    "\n",
    "model_ab = AdaBoostRegressor().fit(X_train, y_train)\n",
    "\n",
    "model_performance(model_ab , 'AdaBost w/o tuning')"
   ]
  },
  {
   "cell_type": "code",
   "execution_count": 67,
   "id": "53e2ae0d",
   "metadata": {},
   "outputs": [
    {
     "name": "stdout",
     "output_type": "stream",
     "text": [
      "Train RMSE: 210.57\n",
      "Test RMSE: 211.91\n",
      "Train R^2: 0.7675392311385465\n",
      "Test R^2: 0.7689333932384199\n"
     ]
    }
   ],
   "source": [
    "# Buidling model using Gradient Boosting\n",
    "\n",
    "from sklearn.ensemble import GradientBoostingRegressor\n",
    "\n",
    "model_gb = GradientBoostingRegressor().fit(X_train, y_train)\n",
    "\n",
    "model_performance(model_gb , 'GradientBoosting w/o tuning')"
   ]
  },
  {
   "cell_type": "code",
   "execution_count": 68,
   "id": "4fdf4574",
   "metadata": {},
   "outputs": [
    {
     "name": "stdout",
     "output_type": "stream",
     "text": [
      "Train RMSE: 107.29\n",
      "Test RMSE: 122.79\n",
      "Train R^2: 0.9396544310943602\n",
      "Test R^2: 0.9224104935231405\n"
     ]
    }
   ],
   "source": [
    "# Building Model using Xtreme Gradient Boosting \n",
    "\n",
    "from xgboost import XGBRegressor\n",
    "\n",
    "model_xgb = XGBRegressor().fit(X_train, y_train)\n",
    "\n",
    "model_performance(model_xgb , 'XGBoost w/o tuning')"
   ]
  },
  {
   "cell_type": "code",
   "execution_count": 69,
   "id": "52e30e1e",
   "metadata": {},
   "outputs": [
    {
     "name": "stdout",
     "output_type": "stream",
     "text": [
      "Train RMSE: 165.53\n",
      "Test RMSE: 212.46\n",
      "Train R^2: 0.8563388393007785\n",
      "Test R^2: 0.767733786322111\n"
     ]
    }
   ],
   "source": [
    "# Building Model using KNN\n",
    "\n",
    "from sklearn.neighbors import KNeighborsRegressor\n",
    "\n",
    "model_knn = KNeighborsRegressor().fit(X_train, y_train)\n",
    "\n",
    "model_performance(model_knn , 'KNN w/o tuning')"
   ]
  },
  {
   "cell_type": "code",
   "execution_count": 70,
   "id": "63434958",
   "metadata": {},
   "outputs": [],
   "source": [
    "performance_df = pd.DataFrame(performance_data)"
   ]
  },
  {
   "cell_type": "code",
   "execution_count": 71,
   "id": "2ddc9ca2",
   "metadata": {},
   "outputs": [
    {
     "data": {
      "text/html": [
       "<div>\n",
       "<style scoped>\n",
       "    .dataframe tbody tr th:only-of-type {\n",
       "        vertical-align: middle;\n",
       "    }\n",
       "\n",
       "    .dataframe tbody tr th {\n",
       "        vertical-align: top;\n",
       "    }\n",
       "\n",
       "    .dataframe thead th {\n",
       "        text-align: right;\n",
       "    }\n",
       "</style>\n",
       "<table border=\"1\" class=\"dataframe\">\n",
       "  <thead>\n",
       "    <tr style=\"text-align: right;\">\n",
       "      <th></th>\n",
       "      <th>Name</th>\n",
       "      <th>Train_RMSE</th>\n",
       "      <th>Test_RMSE</th>\n",
       "      <th>Train_R2</th>\n",
       "      <th>Test_R2</th>\n",
       "    </tr>\n",
       "  </thead>\n",
       "  <tbody>\n",
       "    <tr>\n",
       "      <th>0</th>\n",
       "      <td>Base Model (Linear Regression)</td>\n",
       "      <td>315.96</td>\n",
       "      <td>315.36</td>\n",
       "      <td>0.476595</td>\n",
       "      <td>0.488239</td>\n",
       "    </tr>\n",
       "    <tr>\n",
       "      <th>1</th>\n",
       "      <td>DecisionTree w/o tuning</td>\n",
       "      <td>13.99</td>\n",
       "      <td>98.44</td>\n",
       "      <td>0.998974</td>\n",
       "      <td>0.950138</td>\n",
       "    </tr>\n",
       "    <tr>\n",
       "      <th>2</th>\n",
       "      <td>RandomForest w/o tuning</td>\n",
       "      <td>33.25</td>\n",
       "      <td>83.17</td>\n",
       "      <td>0.994204</td>\n",
       "      <td>0.964404</td>\n",
       "    </tr>\n",
       "    <tr>\n",
       "      <th>3</th>\n",
       "      <td>AdaBost w/o tuning</td>\n",
       "      <td>334.12</td>\n",
       "      <td>336.53</td>\n",
       "      <td>0.414709</td>\n",
       "      <td>0.417238</td>\n",
       "    </tr>\n",
       "    <tr>\n",
       "      <th>4</th>\n",
       "      <td>GradientBoosting w/o tuning</td>\n",
       "      <td>210.57</td>\n",
       "      <td>211.91</td>\n",
       "      <td>0.767539</td>\n",
       "      <td>0.768933</td>\n",
       "    </tr>\n",
       "    <tr>\n",
       "      <th>5</th>\n",
       "      <td>XGBoost w/o tuning</td>\n",
       "      <td>107.29</td>\n",
       "      <td>122.79</td>\n",
       "      <td>0.939654</td>\n",
       "      <td>0.922410</td>\n",
       "    </tr>\n",
       "    <tr>\n",
       "      <th>6</th>\n",
       "      <td>KNN w/o tuning</td>\n",
       "      <td>165.53</td>\n",
       "      <td>212.46</td>\n",
       "      <td>0.856339</td>\n",
       "      <td>0.767734</td>\n",
       "    </tr>\n",
       "  </tbody>\n",
       "</table>\n",
       "</div>"
      ],
      "text/plain": [
       "                             Name  Train_RMSE  Test_RMSE  Train_R2   Test_R2\n",
       "0  Base Model (Linear Regression)      315.96     315.36  0.476595  0.488239\n",
       "1         DecisionTree w/o tuning       13.99      98.44  0.998974  0.950138\n",
       "2         RandomForest w/o tuning       33.25      83.17  0.994204  0.964404\n",
       "3              AdaBost w/o tuning      334.12     336.53  0.414709  0.417238\n",
       "4     GradientBoosting w/o tuning      210.57     211.91  0.767539  0.768933\n",
       "5              XGBoost w/o tuning      107.29     122.79  0.939654  0.922410\n",
       "6                  KNN w/o tuning      165.53     212.46  0.856339  0.767734"
      ]
     },
     "execution_count": 71,
     "metadata": {},
     "output_type": "execute_result"
    }
   ],
   "source": [
    "performance_df "
   ]
  },
  {
   "cell_type": "code",
   "execution_count": 73,
   "id": "ca350571",
   "metadata": {},
   "outputs": [
    {
     "name": "stderr",
     "output_type": "stream",
     "text": [
      "C:\\Users\\SREYAS\\AppData\\Roaming\\Python\\Python311\\site-packages\\sklearn\\model_selection\\_validation.py:547: FitFailedWarning: \n",
      "10 fits failed out of a total of 50.\n",
      "The score on these train-test partitions for these parameters will be set to nan.\n",
      "If these failures are not expected, you can try to debug them by setting error_score='raise'.\n",
      "\n",
      "Below are more details about the failures:\n",
      "--------------------------------------------------------------------------------\n",
      "10 fits failed with the following error:\n",
      "Traceback (most recent call last):\n",
      "  File \"C:\\Users\\SREYAS\\AppData\\Roaming\\Python\\Python311\\site-packages\\sklearn\\model_selection\\_validation.py\", line 895, in _fit_and_score\n",
      "    estimator.fit(X_train, y_train, **fit_params)\n",
      "  File \"C:\\Users\\SREYAS\\AppData\\Roaming\\Python\\Python311\\site-packages\\sklearn\\base.py\", line 1467, in wrapper\n",
      "    estimator._validate_params()\n",
      "  File \"C:\\Users\\SREYAS\\AppData\\Roaming\\Python\\Python311\\site-packages\\sklearn\\base.py\", line 666, in _validate_params\n",
      "    validate_parameter_constraints(\n",
      "  File \"C:\\Users\\SREYAS\\AppData\\Roaming\\Python\\Python311\\site-packages\\sklearn\\utils\\_param_validation.py\", line 95, in validate_parameter_constraints\n",
      "    raise InvalidParameterError(\n",
      "sklearn.utils._param_validation.InvalidParameterError: The 'max_features' parameter of RandomForestRegressor must be an int in the range [1, inf), a float in the range (0.0, 1.0], a str among {'log2', 'sqrt'} or None. Got 'log' instead.\n",
      "\n",
      "  warnings.warn(some_fits_failed_message, FitFailedWarning)\n",
      "C:\\Users\\SREYAS\\AppData\\Roaming\\Python\\Python311\\site-packages\\sklearn\\model_selection\\_search.py:1051: UserWarning: One or more of the test scores are non-finite: [0.72349137 0.72438593 0.79981327        nan 0.6662307  0.7075121\n",
      "        nan 0.77716153 0.68013546 0.74341134]\n",
      "  warnings.warn(\n"
     ]
    },
    {
     "name": "stdout",
     "output_type": "stream",
     "text": [
      "{'n_estimators': 100, 'min_samples_split': 7, 'max_features': None, 'max_depth': 8}\n",
      "Train RMSE: 189.63\n",
      "Test RMSE: 195.56\n",
      "Train R^2: 0.8114710610082734\n",
      "Test R^2: 0.8032184030628264\n"
     ]
    }
   ],
   "source": [
    "# GridsearchCV\n",
    "\n",
    "from sklearn.model_selection import GridSearchCV,RandomizedSearchCV\n",
    "\n",
    "# RandomForest hyperparameter tuning\n",
    "\n",
    "params = {'n_estimators' : [100,150,200] , \n",
    "         'max_depth' : [5,6,7,8],\n",
    "         'max_features' : [None , 'sqrt' , 'log'] ,\n",
    "         'min_samples_split' : [4,5,6,7,8,9]}\n",
    "\n",
    "grid_rf = RandomizedSearchCV(estimator = RandomForestRegressor() , param_distributions= params , cv = 5).fit(X_train, y_train)\n",
    "\n",
    "print(grid_rf.best_params_)\n",
    "\n",
    "model_rf_tuned = grid_rf.best_estimator_.fit(X_train, y_train)\n",
    "\n",
    "model_performance(model_rf_tuned , 'RandomForest with tuning')"
   ]
  },
  {
   "cell_type": "code",
   "execution_count": null,
   "id": "9c738d5d",
   "metadata": {},
   "outputs": [],
   "source": []
  },
  {
   "cell_type": "code",
   "execution_count": 74,
   "id": "3351b687",
   "metadata": {},
   "outputs": [
    {
     "name": "stdout",
     "output_type": "stream",
     "text": [
      "{'learning_rate': 0.5, 'n_estimators': 200}\n",
      "Train RMSE: 67.83\n",
      "Test RMSE: 97.0\n",
      "Train R^2: 0.9758770369633667\n",
      "Test R^2: 0.9515806376071211\n"
     ]
    }
   ],
   "source": [
    "# XGBoost hyperparameter tuning\n",
    "\n",
    "params = {'learning_rate': [0.1,0.2,0.5,0.8,1.0],\n",
    "         'n_estimators': [150,175,200]\n",
    "         }\n",
    "\n",
    "grid_xgb = GridSearchCV(estimator = XGBRegressor() , param_grid = params , cv = 5).fit(X_train, y_train)\n",
    "\n",
    "print(grid_xgb.best_params_)\n",
    "\n",
    "model_xgb_tuned = grid_xgb.best_estimator_.fit(X_train, y_train)\n",
    "\n",
    "model_performance(model_xgb_tuned , 'XGBoost with tuning')"
   ]
  },
  {
   "cell_type": "code",
   "execution_count": 75,
   "id": "9ae86b6b",
   "metadata": {},
   "outputs": [
    {
     "name": "stdout",
     "output_type": "stream",
     "text": [
      "{'n_neighbors': 10}\n",
      "Train RMSE: 200.07\n",
      "Test RMSE: 223.98\n",
      "Train R^2: 0.7901364569522686\n",
      "Test R^2: 0.7418518529301846\n"
     ]
    }
   ],
   "source": [
    "# KNN hyperparameter tuning\n",
    "\n",
    "params = {'n_neighbors': [10,30,50,70,90,100]}\n",
    "\n",
    "grid_knn = GridSearchCV(estimator = KNeighborsRegressor() , param_grid = params , cv = 5).fit(X_train, y_train)\n",
    "\n",
    "print(grid_knn.best_params_)\n",
    "\n",
    "model_knn_tuned = grid_knn.best_estimator_.fit(X_train, y_train)\n",
    "\n",
    "model_performance(model_knn_tuned , 'KNN with tuning')"
   ]
  },
  {
   "cell_type": "code",
   "execution_count": 76,
   "id": "67d06919",
   "metadata": {},
   "outputs": [
    {
     "name": "stdout",
     "output_type": "stream",
     "text": [
      "{'alpha': 10}\n",
      "Train RMSE: 315.96\n",
      "Test RMSE: 315.37\n",
      "Train R^2: 0.4765946823820735\n",
      "Test R^2: 0.48823538214520623\n"
     ]
    }
   ],
   "source": [
    "# Ridge Regression\n",
    "\n",
    "from sklearn.linear_model import Ridge\n",
    "\n",
    "params = {'alpha': [0.1,10,100,150]}\n",
    "\n",
    "grid_ridge = GridSearchCV(estimator = Ridge() , param_grid = params , cv = 5).fit(X_train, y_train)\n",
    "\n",
    "print(grid_ridge.best_params_)\n",
    "\n",
    "model_ridge_tuned = grid_ridge.best_estimator_.fit(X_train, y_train)\n",
    "\n",
    "model_performance(model_ridge_tuned , 'Ridge with tuning')"
   ]
  },
  {
   "cell_type": "code",
   "execution_count": 77,
   "id": "e13b7fb0",
   "metadata": {},
   "outputs": [
    {
     "name": "stdout",
     "output_type": "stream",
     "text": [
      "{'alpha': 0.1}\n",
      "Train RMSE: 315.96\n",
      "Test RMSE: 315.37\n",
      "Train R^2: 0.47659431535918406\n",
      "Test R^2: 0.48823492035640603\n"
     ]
    }
   ],
   "source": [
    "# Lasso Regression\n",
    "\n",
    "from sklearn.linear_model import Lasso\n",
    "\n",
    "params = {'alpha': [0.1,0.01,0.001,1.0,10]}\n",
    "\n",
    "grid_lasso = GridSearchCV(estimator = Lasso() , param_grid = params , cv = 5).fit(X_train, y_train)\n",
    "\n",
    "print(grid_lasso.best_params_)\n",
    "\n",
    "model_lasso_tuned = grid_lasso.best_estimator_.fit(X_train, y_train)\n",
    "\n",
    "model_performance(model_lasso_tuned , 'Lasso with tuning')"
   ]
  },
  {
   "cell_type": "code",
   "execution_count": 78,
   "id": "d420524c",
   "metadata": {},
   "outputs": [],
   "source": [
    "performance_df = pd.DataFrame(performance_data)"
   ]
  },
  {
   "cell_type": "code",
   "execution_count": 79,
   "id": "ea6bcdca",
   "metadata": {},
   "outputs": [
    {
     "data": {
      "text/html": [
       "<div>\n",
       "<style scoped>\n",
       "    .dataframe tbody tr th:only-of-type {\n",
       "        vertical-align: middle;\n",
       "    }\n",
       "\n",
       "    .dataframe tbody tr th {\n",
       "        vertical-align: top;\n",
       "    }\n",
       "\n",
       "    .dataframe thead th {\n",
       "        text-align: right;\n",
       "    }\n",
       "</style>\n",
       "<table border=\"1\" class=\"dataframe\">\n",
       "  <thead>\n",
       "    <tr style=\"text-align: right;\">\n",
       "      <th></th>\n",
       "      <th>Name</th>\n",
       "      <th>Train_RMSE</th>\n",
       "      <th>Test_RMSE</th>\n",
       "      <th>Train_R2</th>\n",
       "      <th>Test_R2</th>\n",
       "    </tr>\n",
       "  </thead>\n",
       "  <tbody>\n",
       "    <tr>\n",
       "      <th>0</th>\n",
       "      <td>Base Model (Linear Regression)</td>\n",
       "      <td>315.96</td>\n",
       "      <td>315.36</td>\n",
       "      <td>0.476595</td>\n",
       "      <td>0.488239</td>\n",
       "    </tr>\n",
       "    <tr>\n",
       "      <th>1</th>\n",
       "      <td>DecisionTree w/o tuning</td>\n",
       "      <td>13.99</td>\n",
       "      <td>98.44</td>\n",
       "      <td>0.998974</td>\n",
       "      <td>0.950138</td>\n",
       "    </tr>\n",
       "    <tr>\n",
       "      <th>2</th>\n",
       "      <td>RandomForest w/o tuning</td>\n",
       "      <td>33.25</td>\n",
       "      <td>83.17</td>\n",
       "      <td>0.994204</td>\n",
       "      <td>0.964404</td>\n",
       "    </tr>\n",
       "    <tr>\n",
       "      <th>3</th>\n",
       "      <td>AdaBost w/o tuning</td>\n",
       "      <td>334.12</td>\n",
       "      <td>336.53</td>\n",
       "      <td>0.414709</td>\n",
       "      <td>0.417238</td>\n",
       "    </tr>\n",
       "    <tr>\n",
       "      <th>4</th>\n",
       "      <td>GradientBoosting w/o tuning</td>\n",
       "      <td>210.57</td>\n",
       "      <td>211.91</td>\n",
       "      <td>0.767539</td>\n",
       "      <td>0.768933</td>\n",
       "    </tr>\n",
       "    <tr>\n",
       "      <th>5</th>\n",
       "      <td>XGBoost w/o tuning</td>\n",
       "      <td>107.29</td>\n",
       "      <td>122.79</td>\n",
       "      <td>0.939654</td>\n",
       "      <td>0.922410</td>\n",
       "    </tr>\n",
       "    <tr>\n",
       "      <th>6</th>\n",
       "      <td>KNN w/o tuning</td>\n",
       "      <td>165.53</td>\n",
       "      <td>212.46</td>\n",
       "      <td>0.856339</td>\n",
       "      <td>0.767734</td>\n",
       "    </tr>\n",
       "    <tr>\n",
       "      <th>7</th>\n",
       "      <td>RandomForest with tuning</td>\n",
       "      <td>189.63</td>\n",
       "      <td>195.56</td>\n",
       "      <td>0.811471</td>\n",
       "      <td>0.803218</td>\n",
       "    </tr>\n",
       "    <tr>\n",
       "      <th>8</th>\n",
       "      <td>XGBoost with tuning</td>\n",
       "      <td>67.83</td>\n",
       "      <td>97.00</td>\n",
       "      <td>0.975877</td>\n",
       "      <td>0.951581</td>\n",
       "    </tr>\n",
       "    <tr>\n",
       "      <th>9</th>\n",
       "      <td>KNN with tuning</td>\n",
       "      <td>200.07</td>\n",
       "      <td>223.98</td>\n",
       "      <td>0.790136</td>\n",
       "      <td>0.741852</td>\n",
       "    </tr>\n",
       "    <tr>\n",
       "      <th>10</th>\n",
       "      <td>Ridge with tuning</td>\n",
       "      <td>315.96</td>\n",
       "      <td>315.37</td>\n",
       "      <td>0.476595</td>\n",
       "      <td>0.488235</td>\n",
       "    </tr>\n",
       "    <tr>\n",
       "      <th>11</th>\n",
       "      <td>Lasso with tuning</td>\n",
       "      <td>315.96</td>\n",
       "      <td>315.37</td>\n",
       "      <td>0.476594</td>\n",
       "      <td>0.488235</td>\n",
       "    </tr>\n",
       "  </tbody>\n",
       "</table>\n",
       "</div>"
      ],
      "text/plain": [
       "                              Name  Train_RMSE  Test_RMSE  Train_R2   Test_R2\n",
       "0   Base Model (Linear Regression)      315.96     315.36  0.476595  0.488239\n",
       "1          DecisionTree w/o tuning       13.99      98.44  0.998974  0.950138\n",
       "2          RandomForest w/o tuning       33.25      83.17  0.994204  0.964404\n",
       "3               AdaBost w/o tuning      334.12     336.53  0.414709  0.417238\n",
       "4      GradientBoosting w/o tuning      210.57     211.91  0.767539  0.768933\n",
       "5               XGBoost w/o tuning      107.29     122.79  0.939654  0.922410\n",
       "6                   KNN w/o tuning      165.53     212.46  0.856339  0.767734\n",
       "7         RandomForest with tuning      189.63     195.56  0.811471  0.803218\n",
       "8              XGBoost with tuning       67.83      97.00  0.975877  0.951581\n",
       "9                  KNN with tuning      200.07     223.98  0.790136  0.741852\n",
       "10               Ridge with tuning      315.96     315.37  0.476595  0.488235\n",
       "11               Lasso with tuning      315.96     315.37  0.476594  0.488235"
      ]
     },
     "execution_count": 79,
     "metadata": {},
     "output_type": "execute_result"
    }
   ],
   "source": [
    "performance_df"
   ]
  },
  {
   "cell_type": "markdown",
   "id": "ea4489d1",
   "metadata": {},
   "source": [
    "Based on the metrics provided (lower RMSE and higher R2 values are better), the best model for this dataset after hyperparameter tuning appears to be the XGBoost model, with the following metrics:"
   ]
  },
  {
   "cell_type": "markdown",
   "id": "9f101d94",
   "metadata": {},
   "source": [
    "Based on the metrics provided for the dataset:\n",
    "\n",
    "The DecisionTree model without tuning has a very low Train_RMSE (13.99) and a relatively high Test_RMSE (98.44). This indicates that the model is likely overfitting the training data and not generalizing well to the test data. The same can be inferred from the high Train_R2 (0.998974) and lower Test_R2 (0.950138), suggesting overfitting.\n",
    "\n",
    "The RandomForest model without tuning also shows signs of overfitting, with a low Train_RMSE (33.25) and higher Test_RMSE (83.17). Similarly, the Train_R2 (0.994204) is much higher than the Test_R2 (0.964404), indicating overfitting.\n",
    "\n",
    "The AdaBoost model without tuning has a Train_RMSE (334.12) and Test_RMSE (336.53) that are quite close, but the R2 values (Train_R2: 0.414709, Test_R2: 0.417238) are relatively low, indicating that the model is not capturing the variability in the data well.\n",
    "\n",
    "The GradientBoosting, XGBoost, and KNN models without tuning also show signs of overfitting, with relatively low Train_RMSE and high Test_RMSE, as well as higher Train_R2 compared to Test_R2.\n",
    "\n",
    "Based on these observations, it appears that the models without tuning are exhibiting overfitting. The RandomForest model with tuning has a relatively better performance compared to other models, but further tuning or exploration of different models may be needed to improve the overall performance and reduce overfitting."
   ]
  },
  {
   "cell_type": "markdown",
   "id": "072d9da7",
   "metadata": {},
   "source": [
    "## Based on your understanding of the model and EDA analysis, Explain the business understanding."
   ]
  },
  {
   "cell_type": "code",
   "execution_count": 80,
   "id": "07611598",
   "metadata": {},
   "outputs": [
    {
     "name": "stdout",
     "output_type": "stream",
     "text": [
      "           Feature  Importance\n",
      "1       book_table    0.378904\n",
      "5        rest_type    0.280389\n",
      "7         cuisines    0.070200\n",
      "8  listed_in(type)    0.062380\n",
      "4         location    0.057734\n",
      "6       dish_liked    0.050530\n",
      "3            votes    0.049622\n",
      "2             rate    0.036245\n",
      "0     online_order    0.007132\n",
      "9  listed_in(city)    0.006864\n"
     ]
    }
   ],
   "source": [
    "feature_importances = model_dt.feature_importances_\n",
    "feature_importance_df = pd.DataFrame({'Feature': X.columns, 'Importance': feature_importances})\n",
    "feature_importance_df = feature_importance_df.sort_values(by='Importance', ascending=False)\n",
    "print(feature_importance_df)"
   ]
  },
  {
   "cell_type": "code",
   "execution_count": 81,
   "id": "22e42531",
   "metadata": {},
   "outputs": [
    {
     "data": {
      "image/png": "[encoded data removed]",
      "text/plain": [
       "<Figure size 1200x800 with 1 Axes>"
      ]
     },
     "metadata": {},
     "output_type": "display_data"
    }
   ],
   "source": [
    "plt.figure(figsize=(12, 8))\n",
    "plt.barh(feature_importance_df['Feature'], feature_importance_df['Importance'], color='skyblue')\n",
    "plt.xlabel('Importance')\n",
    "plt.ylabel('Feature')\n",
    "plt.title('Random Forest Feature Importance')\n",
    "plt.gca().invert_yaxis()  \n",
    "plt.show()"
   ]
  },
  {
   "cell_type": "markdown",
   "id": "783bc07a",
   "metadata": {},
   "source": [
    "The feature importance analysis for the DecisionTree model reveals that 'book_table' and 'rest_type' are the two most important features for predicting the approximate cost for two people in this dataset. 'book_table' has the highest importance, indicating that whether a restaurant allows table booking or not is a significant factor in determining the cost. This suggests that restaurants offering table booking may tend to have higher costs compared to those that do not.\n",
    "\n",
    "The second most important feature, 'rest_type', suggests that the type of restaurant (e.g., casual dining, fine dining, cafe) also plays a significant role in cost determination. Other features like 'cuisines', 'listed_in(type)', and 'location' also have some importance, indicating that the variety of cuisines offered, the type of dining experience, and the location of the restaurant contribute to the cost but to a lesser extent compared to 'book_table' and 'rest_type'.\n",
    "\n",
    "Features like 'dish_liked', 'votes', 'rate', 'online_order', and 'listed_in(city)' have relatively lower importance, suggesting that these factors have less impact on the cost prediction in this model.\n",
    "\n"
   ]
  },
  {
   "cell_type": "markdown",
   "id": "342a5b02",
   "metadata": {},
   "source": [
    "In conclusion, based on the feature importance analysis, restaurants that offer table booking and belong to certain types (as indicated by 'rest_type') are likely to have a higher cost for two people. This information can be valuable for restaurant owners and managers to understand the key factors influencing their pricing strategies and potentially optimize their offerings to attract more customers."
   ]
  },
  {
   "cell_type": "code",
   "execution_count": null,
   "id": "b1453d0f",
   "metadata": {},
   "outputs": [],
   "source": []
  },
  {
   "cell_type": "code",
   "execution_count": null,
   "id": "b95d453e",
   "metadata": {},
   "outputs": [],
   "source": []
  },
  {
   "cell_type": "markdown",
   "id": "04b5fa79",
   "metadata": {},
   "source": [
    "# Section B: "
   ]
  },
  {
   "cell_type": "markdown",
   "id": "f10ca3a7",
   "metadata": {},
   "source": [
    "# Title: Classification"
   ]
  },
  {
   "cell_type": "code",
   "execution_count": 84,
   "id": "373688ad",
   "metadata": {},
   "outputs": [
    {
     "data": {
      "image/png": "[encoded data removed]",
      "text/plain": [
       "<Figure size 640x480 with 1 Axes>"
      ]
     },
     "metadata": {},
     "output_type": "display_data"
    }
   ],
   "source": [
    "sns.countplot(x='online_order', data=df_model)\n",
    "plt.title('Distribution of Online Orders')\n",
    "plt.show()"
   ]
  },
  {
   "cell_type": "code",
   "execution_count": 85,
   "id": "84190f49",
   "metadata": {},
   "outputs": [
    {
     "data": {
      "image/png": "[encoded data removed]",
      "text/plain": [
       "<Figure size 1400x600 with 1 Axes>"
      ]
     },
     "metadata": {},
     "output_type": "display_data"
    },
    {
     "data": {
      "image/png": "[encoded data removed]",
      "text/plain": [
       "<Figure size 1000x600 with 1 Axes>"
      ]
     },
     "metadata": {},
     "output_type": "display_data"
    }
   ],
   "source": [
    "# Explore the impact of categorical variables on online orders\n",
    "plt.figure(figsize=(14, 6))\n",
    "sns.countplot(x='location', hue='online_order', data=df_model)\n",
    "plt.xticks(rotation=90)\n",
    "plt.title('Online Orders by Location')\n",
    "plt.show()\n",
    "\n",
    "# Explore the impact of numerical variables on online orders\n",
    "plt.figure(figsize=(10, 6))\n",
    "sns.boxplot(x='approx_cost(for two people)', y='online_order', data=df_model)\n",
    "plt.title('Approximate Cost Distribution for Online and Offline Orders')\n",
    "plt.show()\n",
    "\n"
   ]
  },
  {
   "cell_type": "code",
   "execution_count": 86,
   "id": "bac0fda4",
   "metadata": {},
   "outputs": [
    {
     "name": "stdout",
     "output_type": "stream",
     "text": [
      "online_order                   1.000000\n",
      "rate                           0.059579\n",
      "votes                          0.034714\n",
      "book_table                     0.001035\n",
      "rest_type                     -0.025854\n",
      "cuisines                      -0.027112\n",
      "listed_in(city)               -0.054197\n",
      "location                      -0.059692\n",
      "approx_cost(for two people)   -0.079908\n",
      "dish_liked                    -0.147359\n",
      "listed_in(type)               -0.226495\n",
      "Name: online_order, dtype: float64\n"
     ]
    }
   ],
   "source": [
    "# Calculate the correlation between features and the target variable\n",
    "correlation = df_model.corr()['online_order'].sort_values(ascending=False)\n",
    "print(correlation)\n"
   ]
  },
  {
   "cell_type": "code",
   "execution_count": 91,
   "id": "f77bf5c6",
   "metadata": {},
   "outputs": [
    {
     "data": {
      "text/plain": [
       "<Axes: >"
      ]
     },
     "execution_count": 91,
     "metadata": {},
     "output_type": "execute_result"
    },
    {
     "data": {
      "image/png": "[encoded data removed]",
      "text/plain": [
       "<Figure size 1200x1000 with 2 Axes>"
      ]
     },
     "metadata": {},
     "output_type": "display_data"
    }
   ],
   "source": [
    "plt.figure(figsize=(12,10))\n",
    "sns.heatmap(df_model.corr(),annot=True,cmap='Blues')"
   ]
  },
  {
   "cell_type": "markdown",
   "id": "62c6a5c2",
   "metadata": {},
   "source": [
    "Based on the correlation values between the features and the target variable (online_order), we can make the following inferences:\n",
    "\n",
    "Negative Correlations:\n",
    "\n",
    "Features like 'dish_liked' and 'listed_in(type)' have a moderate negative correlation with online orders. This suggests that restaurants offering a variety of liked dishes and listed in popular types may receive fewer online orders.\n",
    "'approx_cost(for two people)' has a negative correlation, indicating that higher costs might lead to fewer online orders.\n",
    "\n",
    "Weak Correlations:\n",
    "\n",
    "Features like 'rate', 'votes', 'book_table', 'rest_type', 'cuisines', 'listed_in(city)', and 'location' have weak correlations with online orders. This suggests that these features may not have a strong influence on whether an order is placed online or offline."
   ]
  },
  {
   "cell_type": "code",
   "execution_count": null,
   "id": "0902bef3",
   "metadata": {},
   "outputs": [],
   "source": []
  },
  {
   "cell_type": "code",
   "execution_count": 93,
   "id": "0e1df0fe",
   "metadata": {},
   "outputs": [
    {
     "name": "stdout",
     "output_type": "stream",
     "text": [
      "Categorical Features impacting online_order: []\n",
      "Continuous Features impacting online_order: ['online_order', 'rate', 'votes', 'location', 'rest_type', 'dish_liked', 'cuisines', 'approx_cost(for two people)', 'listed_in(type)', 'listed_in(city)']\n"
     ]
    }
   ],
   "source": [
    "from scipy.stats import f_oneway, pearsonr\n",
    "\n",
    "# Create empty lists to store the results\n",
    "categorical_features = []\n",
    "continuous_features = []\n",
    "\n",
    "# Iterate through each column\n",
    "for column in df_model.columns:\n",
    "    if df_model[column].dtype == 'O':  # Categorical feature\n",
    "        f_statistic, p_value = f_oneway(df_model[df_model[column] == df_model[column].unique()[0]]['online_order'],\n",
    "                                        df_model[df_model[column] == df_model[column].unique()[1]]['online_order'])\n",
    "        if p_value < 0.05:\n",
    "            categorical_features.append(column)\n",
    "    else:  # Continuous feature\n",
    "        corr_coef, p_value = pearsonr(df_model[column], df_model['online_order'])\n",
    "        if p_value < 0.05:\n",
    "            continuous_features.append(column)\n",
    "\n",
    "print(\"Categorical Features impacting online_order:\", categorical_features)\n",
    "print(\"Continuous Features impacting online_order:\", continuous_features)\n"
   ]
  },
  {
   "cell_type": "markdown",
   "id": "f0f406ea",
   "metadata": {},
   "source": [
    "Based on the statistical tests, there are several continuous features seem to have a significant impact:\n",
    "\n",
    "Rate: The rating of the restaurant has a slight positive correlation with online orders, indicating that restaurants with higher ratings may receive more online orders.\n",
    "\n",
    "Votes: The number of votes a restaurant has received also shows a slight positive correlation with online orders, suggesting that popular restaurants tend to receive more online orders.\n",
    "\n",
    "Location: The location of the restaurant has a negative correlation with online orders. This could imply that restaurants in certain areas may receive fewer online orders compared to others.\n",
    "\n",
    "Rest Type: The type of restaurant (e.g., casual dining, quick bites) also shows an impact on online orders, although the direction of the impact is not clear from the correlation coefficient alone.\n",
    "\n",
    "Dish Liked: The presence or absence of a specific dish liked by customers seems to have an impact on online orders, as indicated by the negative correlation.\n",
    "\n",
    "Cuisines: The variety or type of cuisines offered by a restaurant also shows an impact on online orders, although the direction of the impact is not clear.\n",
    "\n",
    "Approx Cost (for two people): The approximate cost for two people shows a negative correlation with online orders, suggesting that restaurants with higher costs may receive fewer online orders.\n",
    "\n",
    "Listed In (Type): The type of listing (e.g., Buffet, Delivery) also shows an impact on online orders, although the direction of the impact is not clear.\n",
    "\n",
    "Listed In (City): The city in which the restaurant is listed also shows an impact on online orders, although the direction of the impact is not clear.\n",
    "\n",
    "Overall, these findings suggest that factors such as the rating, popularity (measured by votes), location, and type of restaurant play a role in determining whether a customer will place an order online or not. Restaurants may consider these factors when strategizing to increase online orders."
   ]
  },
  {
   "cell_type": "code",
   "execution_count": 94,
   "id": "6d060882",
   "metadata": {},
   "outputs": [],
   "source": [
    "X = df_model.drop('online_order', axis=1)  # Features\n",
    "y = df_model['online_order']  # Target variable\n",
    "X_train, X_test, y_train, y_test = train_test_split(X, y, test_size=0.2, random_state=55)\n"
   ]
  },
  {
   "cell_type": "code",
   "execution_count": 96,
   "id": "bf9bdc14",
   "metadata": {},
   "outputs": [],
   "source": [
    "from sklearn.metrics import accuracy_score, f1_score, cohen_kappa_score, classification_report\n",
    "performance_data = []\n",
    "\n",
    "def model_performance(model, name):\n",
    "    # Predicting train and test values\n",
    "    pred_train = model.predict(X_train)\n",
    "    pred_test = model.predict(X_test)\n",
    "\n",
    "    # Calculating metrics\n",
    "    acc_train = accuracy_score(y_train, pred_train)\n",
    "    acc_test = accuracy_score(y_test, pred_test)\n",
    "    f1_train = f1_score(y_train, pred_train)\n",
    "    f1_test = f1_score(y_test, pred_test)\n",
    "    kappa_train = cohen_kappa_score(y_train, pred_train)\n",
    "    kappa_test = cohen_kappa_score(y_test, pred_test)\n",
    "\n",
    "    # Appending metrics to our list\n",
    "    performance_data.append({'Name': name,\n",
    "                             'Train_Accuracy': acc_train,\n",
    "                             'Test_Accuracy': acc_test,\n",
    "                             'Train_f1score': f1_train,\n",
    "                             'Test_f1score': f1_test,\n",
    "                             'Train_Kappa': kappa_train,\n",
    "                             'Test_Kappa': kappa_test})\n",
    "\n",
    "    # Printing Classification report\n",
    "    print('Train Report \\n', classification_report(y_train, pred_train))\n",
    "    print('Test Report \\n', classification_report(y_test, pred_test))"
   ]
  },
  {
   "cell_type": "code",
   "execution_count": 97,
   "id": "3407d39a",
   "metadata": {},
   "outputs": [
    {
     "name": "stdout",
     "output_type": "stream",
     "text": [
      "Train Report \n",
      "               precision    recall  f1-score   support\n",
      "\n",
      "           0       1.00      1.00      1.00     17027\n",
      "           1       1.00      1.00      1.00     24346\n",
      "\n",
      "    accuracy                           1.00     41373\n",
      "   macro avg       1.00      1.00      1.00     41373\n",
      "weighted avg       1.00      1.00      1.00     41373\n",
      "\n",
      "Test Report \n",
      "               precision    recall  f1-score   support\n",
      "\n",
      "           0       0.82      0.83      0.82      4246\n",
      "           1       0.88      0.87      0.87      6098\n",
      "\n",
      "    accuracy                           0.85     10344\n",
      "   macro avg       0.85      0.85      0.85     10344\n",
      "weighted avg       0.85      0.85      0.85     10344\n",
      "\n"
     ]
    }
   ],
   "source": [
    "from sklearn.tree import DecisionTreeClassifier\n",
    "model_dt = DecisionTreeClassifier().fit(X_train, y_train)\n",
    "model_performance(model_dt, 'Decision Tree')\n",
    "performance_df = pd.DataFrame(performance_data)"
   ]
  },
  {
   "cell_type": "code",
   "execution_count": 98,
   "id": "c04f46d2",
   "metadata": {},
   "outputs": [
    {
     "name": "stdout",
     "output_type": "stream",
     "text": [
      "Train Report \n",
      "               precision    recall  f1-score   support\n",
      "\n",
      "           0       1.00      1.00      1.00     17027\n",
      "           1       1.00      1.00      1.00     24346\n",
      "\n",
      "    accuracy                           1.00     41373\n",
      "   macro avg       1.00      1.00      1.00     41373\n",
      "weighted avg       1.00      1.00      1.00     41373\n",
      "\n",
      "Test Report \n",
      "               precision    recall  f1-score   support\n",
      "\n",
      "           0       0.88      0.85      0.87      4246\n",
      "           1       0.90      0.92      0.91      6098\n",
      "\n",
      "    accuracy                           0.89     10344\n",
      "   macro avg       0.89      0.89      0.89     10344\n",
      "weighted avg       0.89      0.89      0.89     10344\n",
      "\n"
     ]
    }
   ],
   "source": [
    "# RandomForest\n",
    "\n",
    "from sklearn.ensemble import RandomForestClassifier\n",
    "\n",
    "model_rf = RandomForestClassifier().fit(X_train, y_train)\n",
    "\n",
    "model_performance(model_rf , 'Random Forest')"
   ]
  },
  {
   "cell_type": "code",
   "execution_count": 99,
   "id": "95fa8c25",
   "metadata": {},
   "outputs": [
    {
     "name": "stdout",
     "output_type": "stream",
     "text": [
      "Train Report \n",
      "               precision    recall  f1-score   support\n",
      "\n",
      "           0       0.65      0.31      0.42     17027\n",
      "           1       0.65      0.88      0.75     24346\n",
      "\n",
      "    accuracy                           0.65     41373\n",
      "   macro avg       0.65      0.59      0.58     41373\n",
      "weighted avg       0.65      0.65      0.61     41373\n",
      "\n",
      "Test Report \n",
      "               precision    recall  f1-score   support\n",
      "\n",
      "           0       0.65      0.31      0.42      4246\n",
      "           1       0.65      0.88      0.75      6098\n",
      "\n",
      "    accuracy                           0.65     10344\n",
      "   macro avg       0.65      0.60      0.58     10344\n",
      "weighted avg       0.65      0.65      0.61     10344\n",
      "\n"
     ]
    }
   ],
   "source": [
    "# Naivebayes\n",
    "\n",
    "from sklearn.naive_bayes import GaussianNB\n",
    "\n",
    "model_nb = GaussianNB().fit(X_train, y_train)\n",
    "\n",
    "model_performance(model_nb , 'Naive Bayes')"
   ]
  },
  {
   "cell_type": "code",
   "execution_count": 100,
   "id": "3acdf391",
   "metadata": {},
   "outputs": [
    {
     "name": "stdout",
     "output_type": "stream",
     "text": [
      "Train Report \n",
      "               precision    recall  f1-score   support\n",
      "\n",
      "           0       0.92      0.89      0.90     17027\n",
      "           1       0.92      0.94      0.93     24346\n",
      "\n",
      "    accuracy                           0.92     41373\n",
      "   macro avg       0.92      0.92      0.92     41373\n",
      "weighted avg       0.92      0.92      0.92     41373\n",
      "\n",
      "Test Report \n",
      "               precision    recall  f1-score   support\n",
      "\n",
      "           0       0.86      0.82      0.84      4246\n",
      "           1       0.88      0.90      0.89      6098\n",
      "\n",
      "    accuracy                           0.87     10344\n",
      "   macro avg       0.87      0.86      0.86     10344\n",
      "weighted avg       0.87      0.87      0.87     10344\n",
      "\n"
     ]
    }
   ],
   "source": [
    "# KNN\n",
    "\n",
    "from sklearn.neighbors import KNeighborsClassifier\n",
    "\n",
    "model_knn = KNeighborsClassifier().fit(X_train, y_train)\n",
    "\n",
    "model_performance(model_knn , 'KNN')"
   ]
  },
  {
   "cell_type": "code",
   "execution_count": 101,
   "id": "3a951e8c",
   "metadata": {},
   "outputs": [
    {
     "name": "stderr",
     "output_type": "stream",
     "text": [
      "C:\\Users\\SREYAS\\AppData\\Roaming\\Python\\Python311\\site-packages\\sklearn\\ensemble\\_weight_boosting.py:519: FutureWarning: The SAMME.R algorithm (the default) is deprecated and will be removed in 1.6. Use the SAMME algorithm to circumvent this warning.\n",
      "  warnings.warn(\n"
     ]
    },
    {
     "name": "stdout",
     "output_type": "stream",
     "text": [
      "Train Report \n",
      "               precision    recall  f1-score   support\n",
      "\n",
      "           0       0.70      0.62      0.66     17027\n",
      "           1       0.75      0.81      0.78     24346\n",
      "\n",
      "    accuracy                           0.73     41373\n",
      "   macro avg       0.72      0.72      0.72     41373\n",
      "weighted avg       0.73      0.73      0.73     41373\n",
      "\n",
      "Test Report \n",
      "               precision    recall  f1-score   support\n",
      "\n",
      "           0       0.70      0.63      0.66      4246\n",
      "           1       0.76      0.81      0.78      6098\n",
      "\n",
      "    accuracy                           0.74     10344\n",
      "   macro avg       0.73      0.72      0.72     10344\n",
      "weighted avg       0.73      0.74      0.73     10344\n",
      "\n"
     ]
    }
   ],
   "source": [
    "# AdaBoost\n",
    "\n",
    "from sklearn.ensemble import AdaBoostClassifier\n",
    "\n",
    "model_ab = AdaBoostClassifier().fit(X_train, y_train)\n",
    "\n",
    "model_performance(model_ab , 'AdaBoost')"
   ]
  },
  {
   "cell_type": "code",
   "execution_count": 102,
   "id": "f0c571b9",
   "metadata": {},
   "outputs": [
    {
     "name": "stdout",
     "output_type": "stream",
     "text": [
      "Train Report \n",
      "               precision    recall  f1-score   support\n",
      "\n",
      "           0       0.72      0.66      0.69     17027\n",
      "           1       0.77      0.82      0.80     24346\n",
      "\n",
      "    accuracy                           0.75     41373\n",
      "   macro avg       0.75      0.74      0.74     41373\n",
      "weighted avg       0.75      0.75      0.75     41373\n",
      "\n",
      "Test Report \n",
      "               precision    recall  f1-score   support\n",
      "\n",
      "           0       0.71      0.66      0.68      4246\n",
      "           1       0.77      0.81      0.79      6098\n",
      "\n",
      "    accuracy                           0.75     10344\n",
      "   macro avg       0.74      0.74      0.74     10344\n",
      "weighted avg       0.75      0.75      0.75     10344\n",
      "\n"
     ]
    }
   ],
   "source": [
    "# Gradient Boosting\n",
    "\n",
    "from sklearn.ensemble import GradientBoostingClassifier\n",
    "\n",
    "model_gb = GradientBoostingClassifier().fit(X_train, y_train)\n",
    "\n",
    "model_performance(model_gb , 'Gradient Boosting')"
   ]
  },
  {
   "cell_type": "code",
   "execution_count": 103,
   "id": "c2b806f4",
   "metadata": {},
   "outputs": [
    {
     "name": "stdout",
     "output_type": "stream",
     "text": [
      "Train Report \n",
      "               precision    recall  f1-score   support\n",
      "\n",
      "           0       0.87      0.84      0.86     17027\n",
      "           1       0.89      0.91      0.90     24346\n",
      "\n",
      "    accuracy                           0.88     41373\n",
      "   macro avg       0.88      0.88      0.88     41373\n",
      "weighted avg       0.88      0.88      0.88     41373\n",
      "\n",
      "Test Report \n",
      "               precision    recall  f1-score   support\n",
      "\n",
      "           0       0.83      0.81      0.82      4246\n",
      "           1       0.87      0.89      0.88      6098\n",
      "\n",
      "    accuracy                           0.86     10344\n",
      "   macro avg       0.85      0.85      0.85     10344\n",
      "weighted avg       0.86      0.86      0.86     10344\n",
      "\n"
     ]
    }
   ],
   "source": [
    "# XGBoost\n",
    "\n",
    "from xgboost import XGBClassifier\n",
    "\n",
    "model_xgb = XGBClassifier().fit(X_train, y_train)\n",
    "\n",
    "model_performance(model_xgb , 'XGBoost')"
   ]
  },
  {
   "cell_type": "code",
   "execution_count": 104,
   "id": "6a551c26",
   "metadata": {},
   "outputs": [
    {
     "name": "stdout",
     "output_type": "stream",
     "text": [
      "Train Report \n",
      "               precision    recall  f1-score   support\n",
      "\n",
      "           0       0.54      0.81      0.65     17027\n",
      "           1       0.80      0.52      0.63     24346\n",
      "\n",
      "    accuracy                           0.64     41373\n",
      "   macro avg       0.67      0.66      0.64     41373\n",
      "weighted avg       0.69      0.64      0.64     41373\n",
      "\n",
      "Test Report \n",
      "               precision    recall  f1-score   support\n",
      "\n",
      "           0       0.54      0.81      0.65      4246\n",
      "           1       0.80      0.51      0.63      6098\n",
      "\n",
      "    accuracy                           0.64     10344\n",
      "   macro avg       0.67      0.66      0.64     10344\n",
      "weighted avg       0.69      0.64      0.63     10344\n",
      "\n"
     ]
    }
   ],
   "source": [
    "# Neural Network\n",
    "\n",
    "from sklearn.neural_network import MLPClassifier\n",
    "\n",
    "model_nn = MLPClassifier().fit(X_train, y_train)\n",
    "\n",
    "model_performance(model_nn , 'Neural Network')"
   ]
  },
  {
   "cell_type": "code",
   "execution_count": 105,
   "id": "52f75988",
   "metadata": {},
   "outputs": [],
   "source": [
    "performance_df = pd.DataFrame(performance_data)"
   ]
  },
  {
   "cell_type": "code",
   "execution_count": 106,
   "id": "47fc77df",
   "metadata": {},
   "outputs": [
    {
     "data": {
      "text/html": [
       "<div>\n",
       "<style scoped>\n",
       "    .dataframe tbody tr th:only-of-type {\n",
       "        vertical-align: middle;\n",
       "    }\n",
       "\n",
       "    .dataframe tbody tr th {\n",
       "        vertical-align: top;\n",
       "    }\n",
       "\n",
       "    .dataframe thead th {\n",
       "        text-align: right;\n",
       "    }\n",
       "</style>\n",
       "<table border=\"1\" class=\"dataframe\">\n",
       "  <thead>\n",
       "    <tr style=\"text-align: right;\">\n",
       "      <th></th>\n",
       "      <th>Name</th>\n",
       "      <th>Train_Accuracy</th>\n",
       "      <th>Test_Accuracy</th>\n",
       "      <th>Train_f1score</th>\n",
       "      <th>Test_f1score</th>\n",
       "      <th>Train_Kappa</th>\n",
       "      <th>Test_Kappa</th>\n",
       "    </tr>\n",
       "  </thead>\n",
       "  <tbody>\n",
       "    <tr>\n",
       "      <th>0</th>\n",
       "      <td>Decision Tree</td>\n",
       "      <td>0.998211</td>\n",
       "      <td>0.852088</td>\n",
       "      <td>0.998479</td>\n",
       "      <td>0.874074</td>\n",
       "      <td>0.996309</td>\n",
       "      <td>0.694881</td>\n",
       "    </tr>\n",
       "    <tr>\n",
       "      <th>1</th>\n",
       "      <td>Random Forest</td>\n",
       "      <td>0.998211</td>\n",
       "      <td>0.892595</td>\n",
       "      <td>0.998479</td>\n",
       "      <td>0.909843</td>\n",
       "      <td>0.996308</td>\n",
       "      <td>0.777063</td>\n",
       "    </tr>\n",
       "    <tr>\n",
       "      <th>2</th>\n",
       "      <td>Naive Bayes</td>\n",
       "      <td>0.645711</td>\n",
       "      <td>0.647815</td>\n",
       "      <td>0.745468</td>\n",
       "      <td>0.746785</td>\n",
       "      <td>0.206191</td>\n",
       "      <td>0.210434</td>\n",
       "    </tr>\n",
       "    <tr>\n",
       "      <th>3</th>\n",
       "      <td>KNN</td>\n",
       "      <td>0.920576</td>\n",
       "      <td>0.868910</td>\n",
       "      <td>0.933195</td>\n",
       "      <td>0.890433</td>\n",
       "      <td>0.835300</td>\n",
       "      <td>0.727381</td>\n",
       "    </tr>\n",
       "    <tr>\n",
       "      <th>4</th>\n",
       "      <td>AdaBoost</td>\n",
       "      <td>0.732289</td>\n",
       "      <td>0.735112</td>\n",
       "      <td>0.780786</td>\n",
       "      <td>0.782229</td>\n",
       "      <td>0.438185</td>\n",
       "      <td>0.445018</td>\n",
       "    </tr>\n",
       "    <tr>\n",
       "      <th>5</th>\n",
       "      <td>Gradient Boosting</td>\n",
       "      <td>0.754042</td>\n",
       "      <td>0.750097</td>\n",
       "      <td>0.797380</td>\n",
       "      <td>0.793316</td>\n",
       "      <td>0.485241</td>\n",
       "      <td>0.477833</td>\n",
       "    </tr>\n",
       "    <tr>\n",
       "      <th>6</th>\n",
       "      <td>XGBoost</td>\n",
       "      <td>0.883644</td>\n",
       "      <td>0.855955</td>\n",
       "      <td>0.902210</td>\n",
       "      <td>0.878980</td>\n",
       "      <td>0.758628</td>\n",
       "      <td>0.701130</td>\n",
       "    </tr>\n",
       "    <tr>\n",
       "      <th>7</th>\n",
       "      <td>Neural Network</td>\n",
       "      <td>0.637396</td>\n",
       "      <td>0.637181</td>\n",
       "      <td>0.625997</td>\n",
       "      <td>0.625785</td>\n",
       "      <td>0.304076</td>\n",
       "      <td>0.304251</td>\n",
       "    </tr>\n",
       "  </tbody>\n",
       "</table>\n",
       "</div>"
      ],
      "text/plain": [
       "                Name  Train_Accuracy  Test_Accuracy  Train_f1score  \\\n",
       "0      Decision Tree        0.998211       0.852088       0.998479   \n",
       "1      Random Forest        0.998211       0.892595       0.998479   \n",
       "2        Naive Bayes        0.645711       0.647815       0.745468   \n",
       "3                KNN        0.920576       0.868910       0.933195   \n",
       "4           AdaBoost        0.732289       0.735112       0.780786   \n",
       "5  Gradient Boosting        0.754042       0.750097       0.797380   \n",
       "6            XGBoost        0.883644       0.855955       0.902210   \n",
       "7     Neural Network        0.637396       0.637181       0.625997   \n",
       "\n",
       "   Test_f1score  Train_Kappa  Test_Kappa  \n",
       "0      0.874074     0.996309    0.694881  \n",
       "1      0.909843     0.996308    0.777063  \n",
       "2      0.746785     0.206191    0.210434  \n",
       "3      0.890433     0.835300    0.727381  \n",
       "4      0.782229     0.438185    0.445018  \n",
       "5      0.793316     0.485241    0.477833  \n",
       "6      0.878980     0.758628    0.701130  \n",
       "7      0.625785     0.304076    0.304251  "
      ]
     },
     "execution_count": 106,
     "metadata": {},
     "output_type": "execute_result"
    }
   ],
   "source": [
    "performance_df"
   ]
  },
  {
   "cell_type": "markdown",
   "id": "29caff0e",
   "metadata": {},
   "source": [
    "Based on the metrics provided, the best model for this dataset appears to be the Random Forest model. It has the highest Test_Accuracy, Test_f1score, and Test_Kappa compared to the other models."
   ]
  },
  {
   "cell_type": "markdown",
   "id": "653bfaa9",
   "metadata": {},
   "source": [
    "Based on the provided metrics, we can make the following observations:\n",
    "\n",
    "Good Fit: Decision Tree, Random Forest, KNN, XGBoost\n",
    "\n",
    "Underfit: Naive Bayes\n",
    "\n",
    "Overfit: AdaBoost, Gradient Boosting, Neural Network\n",
    "\n",
    "These classifications are based on the relative performance of the models on the train and test sets."
   ]
  },
  {
   "cell_type": "code",
   "execution_count": 107,
   "id": "2c4c7b16",
   "metadata": {},
   "outputs": [
    {
     "name": "stderr",
     "output_type": "stream",
     "text": [
      "C:\\Users\\SREYAS\\AppData\\Roaming\\Python\\Python311\\site-packages\\sklearn\\model_selection\\_validation.py:547: FitFailedWarning: \n",
      "20 fits failed out of a total of 50.\n",
      "The score on these train-test partitions for these parameters will be set to nan.\n",
      "If these failures are not expected, you can try to debug them by setting error_score='raise'.\n",
      "\n",
      "Below are more details about the failures:\n",
      "--------------------------------------------------------------------------------\n",
      "20 fits failed with the following error:\n",
      "Traceback (most recent call last):\n",
      "  File \"C:\\Users\\SREYAS\\AppData\\Roaming\\Python\\Python311\\site-packages\\sklearn\\model_selection\\_validation.py\", line 895, in _fit_and_score\n",
      "    estimator.fit(X_train, y_train, **fit_params)\n",
      "  File \"C:\\Users\\SREYAS\\AppData\\Roaming\\Python\\Python311\\site-packages\\sklearn\\base.py\", line 1467, in wrapper\n",
      "    estimator._validate_params()\n",
      "  File \"C:\\Users\\SREYAS\\AppData\\Roaming\\Python\\Python311\\site-packages\\sklearn\\base.py\", line 666, in _validate_params\n",
      "    validate_parameter_constraints(\n",
      "  File \"C:\\Users\\SREYAS\\AppData\\Roaming\\Python\\Python311\\site-packages\\sklearn\\utils\\_param_validation.py\", line 95, in validate_parameter_constraints\n",
      "    raise InvalidParameterError(\n",
      "sklearn.utils._param_validation.InvalidParameterError: The 'max_features' parameter of RandomForestClassifier must be an int in the range [1, inf), a float in the range (0.0, 1.0], a str among {'log2', 'sqrt'} or None. Got 'log' instead.\n",
      "\n",
      "  warnings.warn(some_fits_failed_message, FitFailedWarning)\n",
      "C:\\Users\\SREYAS\\AppData\\Roaming\\Python\\Python311\\site-packages\\sklearn\\model_selection\\_search.py:1051: UserWarning: One or more of the test scores are non-finite: [0.75571041        nan 0.73555239 0.72907467 0.75447774 0.74611481\n",
      "        nan        nan        nan 0.73083917]\n",
      "  warnings.warn(\n"
     ]
    },
    {
     "name": "stdout",
     "output_type": "stream",
     "text": [
      "{'n_estimators': 200, 'min_samples_split': 4, 'max_features': None, 'max_depth': 8}\n",
      "Train Report \n",
      "               precision    recall  f1-score   support\n",
      "\n",
      "           0       0.75      0.66      0.70     17027\n",
      "           1       0.78      0.85      0.81     24346\n",
      "\n",
      "    accuracy                           0.77     41373\n",
      "   macro avg       0.77      0.75      0.76     41373\n",
      "weighted avg       0.77      0.77      0.77     41373\n",
      "\n",
      "Test Report \n",
      "               precision    recall  f1-score   support\n",
      "\n",
      "           0       0.73      0.65      0.69      4246\n",
      "           1       0.77      0.83      0.80      6098\n",
      "\n",
      "    accuracy                           0.76     10344\n",
      "   macro avg       0.75      0.74      0.74     10344\n",
      "weighted avg       0.75      0.76      0.75     10344\n",
      "\n"
     ]
    }
   ],
   "source": [
    "# RandomForest hyperparameter tuning\n",
    "\n",
    "params = {'n_estimators' : [100,150,200] , \n",
    "         'max_depth' : [5,6,7,8],\n",
    "         'max_features' : [None , 'sqrt' , 'log'] ,\n",
    "         'min_samples_split' : [4,5,6,7,8,9]}\n",
    "\n",
    "grid_rf = RandomizedSearchCV(estimator = RandomForestClassifier() , param_distributions= params , cv = 5).fit(X_train, y_train)\n",
    "\n",
    "print(grid_rf.best_params_)\n",
    "\n",
    "model_rf_tuned = grid_rf.best_estimator_.fit(X_train, y_train)\n",
    "\n",
    "model_performance(model_rf_tuned , 'RandomForest with tuning')"
   ]
  },
  {
   "cell_type": "code",
   "execution_count": 108,
   "id": "520cb480",
   "metadata": {},
   "outputs": [],
   "source": [
    "performance_df = pd.DataFrame(performance_data)"
   ]
  },
  {
   "cell_type": "code",
   "execution_count": 109,
   "id": "f895aba4",
   "metadata": {},
   "outputs": [
    {
     "data": {
      "text/html": [
       "<div>\n",
       "<style scoped>\n",
       "    .dataframe tbody tr th:only-of-type {\n",
       "        vertical-align: middle;\n",
       "    }\n",
       "\n",
       "    .dataframe tbody tr th {\n",
       "        vertical-align: top;\n",
       "    }\n",
       "\n",
       "    .dataframe thead th {\n",
       "        text-align: right;\n",
       "    }\n",
       "</style>\n",
       "<table border=\"1\" class=\"dataframe\">\n",
       "  <thead>\n",
       "    <tr style=\"text-align: right;\">\n",
       "      <th></th>\n",
       "      <th>Name</th>\n",
       "      <th>Train_Accuracy</th>\n",
       "      <th>Test_Accuracy</th>\n",
       "      <th>Train_f1score</th>\n",
       "      <th>Test_f1score</th>\n",
       "      <th>Train_Kappa</th>\n",
       "      <th>Test_Kappa</th>\n",
       "    </tr>\n",
       "  </thead>\n",
       "  <tbody>\n",
       "    <tr>\n",
       "      <th>0</th>\n",
       "      <td>Decision Tree</td>\n",
       "      <td>0.998211</td>\n",
       "      <td>0.852088</td>\n",
       "      <td>0.998479</td>\n",
       "      <td>0.874074</td>\n",
       "      <td>0.996309</td>\n",
       "      <td>0.694881</td>\n",
       "    </tr>\n",
       "    <tr>\n",
       "      <th>1</th>\n",
       "      <td>Random Forest</td>\n",
       "      <td>0.998211</td>\n",
       "      <td>0.892595</td>\n",
       "      <td>0.998479</td>\n",
       "      <td>0.909843</td>\n",
       "      <td>0.996308</td>\n",
       "      <td>0.777063</td>\n",
       "    </tr>\n",
       "    <tr>\n",
       "      <th>2</th>\n",
       "      <td>Naive Bayes</td>\n",
       "      <td>0.645711</td>\n",
       "      <td>0.647815</td>\n",
       "      <td>0.745468</td>\n",
       "      <td>0.746785</td>\n",
       "      <td>0.206191</td>\n",
       "      <td>0.210434</td>\n",
       "    </tr>\n",
       "    <tr>\n",
       "      <th>3</th>\n",
       "      <td>KNN</td>\n",
       "      <td>0.920576</td>\n",
       "      <td>0.868910</td>\n",
       "      <td>0.933195</td>\n",
       "      <td>0.890433</td>\n",
       "      <td>0.835300</td>\n",
       "      <td>0.727381</td>\n",
       "    </tr>\n",
       "    <tr>\n",
       "      <th>4</th>\n",
       "      <td>AdaBoost</td>\n",
       "      <td>0.732289</td>\n",
       "      <td>0.735112</td>\n",
       "      <td>0.780786</td>\n",
       "      <td>0.782229</td>\n",
       "      <td>0.438185</td>\n",
       "      <td>0.445018</td>\n",
       "    </tr>\n",
       "    <tr>\n",
       "      <th>5</th>\n",
       "      <td>Gradient Boosting</td>\n",
       "      <td>0.754042</td>\n",
       "      <td>0.750097</td>\n",
       "      <td>0.797380</td>\n",
       "      <td>0.793316</td>\n",
       "      <td>0.485241</td>\n",
       "      <td>0.477833</td>\n",
       "    </tr>\n",
       "    <tr>\n",
       "      <th>6</th>\n",
       "      <td>XGBoost</td>\n",
       "      <td>0.883644</td>\n",
       "      <td>0.855955</td>\n",
       "      <td>0.902210</td>\n",
       "      <td>0.878980</td>\n",
       "      <td>0.758628</td>\n",
       "      <td>0.701130</td>\n",
       "    </tr>\n",
       "    <tr>\n",
       "      <th>7</th>\n",
       "      <td>Neural Network</td>\n",
       "      <td>0.637396</td>\n",
       "      <td>0.637181</td>\n",
       "      <td>0.625997</td>\n",
       "      <td>0.625785</td>\n",
       "      <td>0.304076</td>\n",
       "      <td>0.304251</td>\n",
       "    </tr>\n",
       "    <tr>\n",
       "      <th>8</th>\n",
       "      <td>RandomForest with tuning</td>\n",
       "      <td>0.771203</td>\n",
       "      <td>0.756090</td>\n",
       "      <td>0.813639</td>\n",
       "      <td>0.800758</td>\n",
       "      <td>0.518693</td>\n",
       "      <td>0.487466</td>\n",
       "    </tr>\n",
       "  </tbody>\n",
       "</table>\n",
       "</div>"
      ],
      "text/plain": [
       "                       Name  Train_Accuracy  Test_Accuracy  Train_f1score  \\\n",
       "0             Decision Tree        0.998211       0.852088       0.998479   \n",
       "1             Random Forest        0.998211       0.892595       0.998479   \n",
       "2               Naive Bayes        0.645711       0.647815       0.745468   \n",
       "3                       KNN        0.920576       0.868910       0.933195   \n",
       "4                  AdaBoost        0.732289       0.735112       0.780786   \n",
       "5         Gradient Boosting        0.754042       0.750097       0.797380   \n",
       "6                   XGBoost        0.883644       0.855955       0.902210   \n",
       "7            Neural Network        0.637396       0.637181       0.625997   \n",
       "8  RandomForest with tuning        0.771203       0.756090       0.813639   \n",
       "\n",
       "   Test_f1score  Train_Kappa  Test_Kappa  \n",
       "0      0.874074     0.996309    0.694881  \n",
       "1      0.909843     0.996308    0.777063  \n",
       "2      0.746785     0.206191    0.210434  \n",
       "3      0.890433     0.835300    0.727381  \n",
       "4      0.782229     0.438185    0.445018  \n",
       "5      0.793316     0.485241    0.477833  \n",
       "6      0.878980     0.758628    0.701130  \n",
       "7      0.625785     0.304076    0.304251  \n",
       "8      0.800758     0.518693    0.487466  "
      ]
     },
     "execution_count": 109,
     "metadata": {},
     "output_type": "execute_result"
    }
   ],
   "source": [
    "performance_df"
   ]
  },
  {
   "cell_type": "code",
   "execution_count": 110,
   "id": "005fd121",
   "metadata": {},
   "outputs": [
    {
     "name": "stdout",
     "output_type": "stream",
     "text": [
      "                       Feature  Importance\n",
      "2                        votes    0.188690\n",
      "6                     cuisines    0.170640\n",
      "7  approx_cost(for two people)    0.125275\n",
      "3                     location    0.116411\n",
      "8              listed_in(type)    0.085066\n",
      "1                         rate    0.079194\n",
      "9              listed_in(city)    0.078787\n",
      "5                   dish_liked    0.074920\n",
      "4                    rest_type    0.074813\n",
      "0                   book_table    0.006205\n"
     ]
    }
   ],
   "source": [
    "feature_importances = model_rf.feature_importances_\n",
    "feature_importance_df = pd.DataFrame({'Feature': X.columns, 'Importance': feature_importances})\n",
    "feature_importance_df = feature_importance_df.sort_values(by='Importance', ascending=False)\n",
    "\n",
    "# Display the feature importances\n",
    "print(feature_importance_df)"
   ]
  },
  {
   "cell_type": "code",
   "execution_count": 111,
   "id": "44ba3765",
   "metadata": {},
   "outputs": [
    {
     "data": {
      "image/png": "[encoded data removed]",
      "text/plain": [
       "<Figure size 1200x800 with 1 Axes>"
      ]
     },
     "metadata": {},
     "output_type": "display_data"
    }
   ],
   "source": [
    "plt.figure(figsize=(12, 8))\n",
    "plt.barh(feature_importance_df['Feature'], feature_importance_df['Importance'], color='skyblue')\n",
    "plt.xlabel('Importance')\n",
    "plt.ylabel('Feature')\n",
    "plt.title('Random Forest Feature Importance')\n",
    "plt.gca().invert_yaxis()  \n",
    "plt.show()"
   ]
  },
  {
   "cell_type": "markdown",
   "id": "e87822af",
   "metadata": {},
   "source": [
    "Based on the feature importance analysis of the Random Forest model, we can draw several business interpretations:\n",
    "\n",
    "Votes: The number of votes a restaurant receives seems to be the most important factor in predicting whether an order will be placed online or offline. This suggests that popular restaurants with high vote counts are more likely to receive online orders.\n",
    "\n",
    "Cuisines: The variety of cuisines offered by a restaurant also plays a significant role. Restaurants offering a diverse range of cuisines are more likely to attract online orders, possibly indicating a preference for variety among online customers.\n",
    "\n",
    "Approximate Cost for Two People: The approximate cost for two people is another important factor. It seems that restaurants with higher costs for two people are more likely to receive offline orders, possibly because customers prefer to visit such restaurants in person for a more premium dining experience.\n",
    "\n",
    "Location: The location of the restaurant also influences the mode of ordering. Restaurants located in certain areas may be more accessible for online delivery services, leading to a higher likelihood of online orders.\n",
    "\n",
    "Listed in Type and City: The type of establishment and the city it is located in also play roles, albeit smaller than the other factors. This suggests that the nature of the restaurant and its location within a city can impact the ordering behavior.\n",
    "\n",
    "Rating: Surprisingly, the restaurant's rating has a lower importance compared to other factors. This may indicate that customers consider factors other than just the rating when deciding how to place their orders.\n",
    "\n"
   ]
  },
  {
   "cell_type": "markdown",
   "id": "02db5e94",
   "metadata": {},
   "source": [
    "Reasons for Choosing the Final Model:\n",
    "\n",
    "The Random Forest model performs consistently well across multiple metrics, including accuracy and f1-score, indicating its robustness.\n",
    "\n",
    "The model's ability to handle non-linear relationships and interactions between features makes it suitable for this dataset, which likely contains complex patterns.\n",
    "\n",
    "Random Forest is less prone to overfitting compared to some other models, which is supported by the relatively small difference between train and test metrics.\n",
    "\n",
    "The feature importance analysis provides actionable insights for Zomato, highlighting key factors influencing online and offline orders.\n"
   ]
  },
  {
   "cell_type": "markdown",
   "id": "541d62c1",
   "metadata": {},
   "source": [
    "Overall, the Random Forest model stands out as the best choice for predicting online and offline orders due to its strong performance and ability to provide valuable insights for business decisions."
   ]
  }
 ],
 "metadata": {
  "kernelspec": {
   "display_name": "Python 3 (ipykernel)",
   "language": "python",
   "name": "python3"
  },
  "language_info": {
   "codemirror_mode": {
    "name": "ipython",
    "version": 3
   },
   "file_extension": ".py",
   "mimetype": "text/x-python",
   "name": "python",
   "nbconvert_exporter": "python",
   "pygments_lexer": "ipython3",
   "version": "3.11.5"
  }
 },
 "nbformat": 4,
 "nbformat_minor": 5
}
